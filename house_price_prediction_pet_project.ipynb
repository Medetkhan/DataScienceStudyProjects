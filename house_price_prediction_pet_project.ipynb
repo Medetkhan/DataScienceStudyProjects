{
  "cells": [
    {
      "cell_type": "markdown",
      "metadata": {
        "id": "view-in-github",
        "colab_type": "text"
      },
      "source": [
        "<a href=\"https://colab.research.google.com/github/Medetkhan/DataScienceStudyProjects/blob/main/house_price_prediction_pet_project.ipynb\" target=\"_parent\"><img src=\"https://colab.research.google.com/assets/colab-badge.svg\" alt=\"Open In Colab\"/></a>"
      ]
    },
    {
      "cell_type": "markdown",
      "metadata": {
        "id": "v4aZxxT06_7S"
      },
      "source": [
        "### Проект 2 [Цена дома]"
      ]
    },
    {
      "cell_type": "markdown",
      "metadata": {
        "id": "mm4IyZ0L6_7U"
      },
      "source": [
        "Вам предоставляется набор данных, содержащий информацию о домах и **ценах**. Набор данных уже разделен на ```train.csv``` и ```test.csv```. Файл ```data_description.txt``` содержит описание столбцов.\n",
        "\n",
        "**Цель:** построить модели для прогнозирования цен на дома.\n",
        "\n",
        "Пожалуйста, включите подробные объяснения следующих шагов:\n",
        "\n",
        "1. Очистка, предварительная обработка данных\n",
        "\n",
        "2. Обучение и проверка моделей.\n",
        "\n",
        "3. Сравнение моделей на основе метрик регрессии.\n",
        "\n",
        "**Примечание:** вам **рекомендуется** искать другие алгоритмы машинного обучения в Интернете (не ограничиваясь материалом курса), но вы должны изучить и понять эти алгоритмы. Вы не можете удалить ни одну строку в файле test.csv."
      ]
    },
    {
      "cell_type": "code",
      "execution_count": null,
      "metadata": {
        "colab": {
          "base_uri": "https://localhost:8080/"
        },
        "id": "zkDCKxXO6_7U",
        "outputId": "f212fd3b-0d24-441b-d945-9f81ac8de5b9"
      },
      "outputs": [
        {
          "output_type": "stream",
          "name": "stdout",
          "text": [
            "Mounted at /content/drive\n",
            "<bound method NDFrame.head of         Id  MSSubClass MSZoning  LotFrontage  LotArea Street Alley LotShape  \\\n",
            "0     1030         160       RM         21.0     1680   Pave   NaN      Reg   \n",
            "1      366          70       RM         59.0    10690   Pave   NaN      Reg   \n",
            "2      883          60       RL          NaN     9636   Pave   NaN      IR1   \n",
            "3       94         190  C (all)         60.0     7200   Pave   NaN      Reg   \n",
            "4     1360          20       RL        129.0    16737   Pave   NaN      Reg   \n",
            "...    ...         ...      ...          ...      ...    ...   ...      ...   \n",
            "1309   953          85       RL         60.0     7200   Pave   NaN      Reg   \n",
            "1310   316          60       RL         71.0     7795   Pave   NaN      IR1   \n",
            "1311   206          20       RL         99.0    11851   Pave   NaN      Reg   \n",
            "1312   545          60       RL         58.0    17104   Pave   NaN      IR1   \n",
            "1313  1240          20       RL         64.0     9037   Pave   NaN      IR1   \n",
            "\n",
            "     LandContour Utilities  ... PoolArea PoolQC  Fence MiscFeature MiscVal  \\\n",
            "0            Lvl    AllPub  ...        0    NaN    NaN         NaN       0   \n",
            "1            Lvl    AllPub  ...        0    NaN    NaN         NaN       0   \n",
            "2            Lvl    AllPub  ...        0    NaN  MnPrv         NaN       0   \n",
            "3            Lvl    AllPub  ...        0    NaN    NaN         NaN       0   \n",
            "4            Lvl    AllPub  ...        0    NaN    NaN         NaN       0   \n",
            "...          ...       ...  ...      ...    ...    ...         ...     ...   \n",
            "1309         Lvl    AllPub  ...        0    NaN  MnPrv         NaN       0   \n",
            "1310         Lvl    AllPub  ...        0    NaN    NaN         NaN       0   \n",
            "1311         Lvl    AllPub  ...        0    NaN    NaN         NaN       0   \n",
            "1312         Lvl    AllPub  ...        0    NaN    NaN         NaN       0   \n",
            "1313         HLS    AllPub  ...        0    NaN    NaN         NaN       0   \n",
            "\n",
            "     MoSold YrSold  SaleType  SaleCondition  SalePrice  \n",
            "0         5   2006        WD         Normal     118000  \n",
            "1         7   2009        WD         Normal     147000  \n",
            "2        12   2009        WD         Normal     178000  \n",
            "3        11   2007        WD         Normal     133900  \n",
            "4         9   2006        WD         Normal     315000  \n",
            "...     ...    ...       ...            ...        ...  \n",
            "1309      4   2009        WD         Normal     133900  \n",
            "1310      7   2009        WD         Normal     188500  \n",
            "1311      5   2009        WD         Normal     180500  \n",
            "1312      9   2006       New        Partial     179665  \n",
            "1313     12   2007        WD         Normal     265900  \n",
            "\n",
            "[1314 rows x 81 columns]>\n"
          ]
        }
      ],
      "source": [
        "import pandas as pd\n",
        "import numpy as np\n",
        "import matplotlib.pyplot as plt\n",
        "import seaborn as sns\n",
        "import warnings\n",
        "warnings.filterwarnings('ignore')\n",
        "\n",
        "def load_data(filename = None):\n",
        "    from google.colab import drive\n",
        "    drive.mount(\"/content/drive\", force_remount=True)\n",
        "    data = pd.read_csv(f\"/content/drive/My Drive/AI_lessons/project-2/project-2/\" + filename)\n",
        "    return data\n",
        "\n",
        "data_train = load_data(\"train.csv\")\n",
        "print(data_train.head)"
      ]
    },
    {
      "cell_type": "code",
      "source": [
        "data_test = load_data(\"test.csv\")\n",
        "print(data_test.head)"
      ],
      "metadata": {
        "colab": {
          "base_uri": "https://localhost:8080/"
        },
        "id": "mU-TgBBKyMfK",
        "outputId": "1602b26d-14b2-44fb-a117-fb9932719346"
      },
      "execution_count": null,
      "outputs": [
        {
          "output_type": "stream",
          "name": "stdout",
          "text": [
            "Mounted at /content/drive\n",
            "<bound method NDFrame.head of        Id  MSSubClass MSZoning  LotFrontage  LotArea Street Alley LotShape  \\\n",
            "0    1227          60       RL         86.0    14598   Pave   NaN      IR1   \n",
            "1     932          20       RL         70.0     9100   Pave   NaN      Reg   \n",
            "2     647          20       RL         60.0     7200   Pave   NaN      Reg   \n",
            "3     547          50       RL         70.0     8737   Pave   NaN      IR1   \n",
            "4     812         120       RM          NaN     4438   Pave   NaN      Reg   \n",
            "..    ...         ...      ...          ...      ...    ...   ...      ...   \n",
            "141   452          20       RL         62.0    70761   Pave   NaN      IR1   \n",
            "142  1168          60       RL         58.0    10852   Pave   NaN      IR1   \n",
            "143   641         120       RL         62.0    12677   Pave   NaN      IR1   \n",
            "144    93          30       RL         80.0    13360   Pave  Grvl      IR1   \n",
            "145  1042          60       RL          NaN     9130   Pave   NaN      Reg   \n",
            "\n",
            "    LandContour Utilities  ... PoolArea PoolQC Fence MiscFeature MiscVal  \\\n",
            "0           Lvl    AllPub  ...        0    NaN   NaN         NaN       0   \n",
            "1           Lvl    AllPub  ...        0    NaN  GdWo         NaN       0   \n",
            "2           Lvl    AllPub  ...        0    NaN   NaN         NaN       0   \n",
            "3           Bnk    AllPub  ...        0    NaN   NaN         NaN       0   \n",
            "4           Lvl    AllPub  ...        0    NaN   NaN         NaN       0   \n",
            "..          ...       ...  ...      ...    ...   ...         ...     ...   \n",
            "141         Low    AllPub  ...        0    NaN   NaN         NaN       0   \n",
            "142         Lvl    AllPub  ...        0    NaN   NaN         NaN       0   \n",
            "143         Lvl    AllPub  ...        0    NaN   NaN         NaN       0   \n",
            "144         HLS    AllPub  ...        0    NaN   NaN         NaN       0   \n",
            "145         Lvl    AllPub  ...        0    NaN   NaN         NaN       0   \n",
            "\n",
            "    MoSold YrSold  SaleType  SaleCondition  SalePrice  \n",
            "0        1   2008        WD         Normal     214000  \n",
            "1        7   2009        WD         Normal     117500  \n",
            "2        7   2008        WD         Normal      98300  \n",
            "3        5   2007        WD         Normal     210000  \n",
            "4        6   2008     ConLD         Normal     144500  \n",
            "..     ...    ...       ...            ...        ...  \n",
            "141     12   2006        WD         Normal     280000  \n",
            "142      2   2006        WD         Normal     173000  \n",
            "143      4   2008        WD         Normal     274000  \n",
            "144      8   2009        WD         Normal     163500  \n",
            "145      7   2008        WD         Normal     173000  \n",
            "\n",
            "[146 rows x 81 columns]>\n"
          ]
        }
      ]
    },
    {
      "cell_type": "code",
      "source": [
        "data_train"
      ],
      "metadata": {
        "colab": {
          "base_uri": "https://localhost:8080/",
          "height": 443
        },
        "id": "xfaLM8AB_ouu",
        "outputId": "8427f09e-a16b-47b8-9217-d16651ffc26f"
      },
      "execution_count": null,
      "outputs": [
        {
          "output_type": "execute_result",
          "data": {
            "text/plain": [
              "        Id  MSSubClass MSZoning  LotFrontage  LotArea Street Alley LotShape  \\\n",
              "0     1030         160       RM         21.0     1680   Pave   NaN      Reg   \n",
              "1      366          70       RM         59.0    10690   Pave   NaN      Reg   \n",
              "2      883          60       RL          NaN     9636   Pave   NaN      IR1   \n",
              "3       94         190  C (all)         60.0     7200   Pave   NaN      Reg   \n",
              "4     1360          20       RL        129.0    16737   Pave   NaN      Reg   \n",
              "...    ...         ...      ...          ...      ...    ...   ...      ...   \n",
              "1309   953          85       RL         60.0     7200   Pave   NaN      Reg   \n",
              "1310   316          60       RL         71.0     7795   Pave   NaN      IR1   \n",
              "1311   206          20       RL         99.0    11851   Pave   NaN      Reg   \n",
              "1312   545          60       RL         58.0    17104   Pave   NaN      IR1   \n",
              "1313  1240          20       RL         64.0     9037   Pave   NaN      IR1   \n",
              "\n",
              "     LandContour Utilities  ... PoolArea PoolQC  Fence MiscFeature MiscVal  \\\n",
              "0            Lvl    AllPub  ...        0    NaN    NaN         NaN       0   \n",
              "1            Lvl    AllPub  ...        0    NaN    NaN         NaN       0   \n",
              "2            Lvl    AllPub  ...        0    NaN  MnPrv         NaN       0   \n",
              "3            Lvl    AllPub  ...        0    NaN    NaN         NaN       0   \n",
              "4            Lvl    AllPub  ...        0    NaN    NaN         NaN       0   \n",
              "...          ...       ...  ...      ...    ...    ...         ...     ...   \n",
              "1309         Lvl    AllPub  ...        0    NaN  MnPrv         NaN       0   \n",
              "1310         Lvl    AllPub  ...        0    NaN    NaN         NaN       0   \n",
              "1311         Lvl    AllPub  ...        0    NaN    NaN         NaN       0   \n",
              "1312         Lvl    AllPub  ...        0    NaN    NaN         NaN       0   \n",
              "1313         HLS    AllPub  ...        0    NaN    NaN         NaN       0   \n",
              "\n",
              "     MoSold YrSold  SaleType  SaleCondition  SalePrice  \n",
              "0         5   2006        WD         Normal     118000  \n",
              "1         7   2009        WD         Normal     147000  \n",
              "2        12   2009        WD         Normal     178000  \n",
              "3        11   2007        WD         Normal     133900  \n",
              "4         9   2006        WD         Normal     315000  \n",
              "...     ...    ...       ...            ...        ...  \n",
              "1309      4   2009        WD         Normal     133900  \n",
              "1310      7   2009        WD         Normal     188500  \n",
              "1311      5   2009        WD         Normal     180500  \n",
              "1312      9   2006       New        Partial     179665  \n",
              "1313     12   2007        WD         Normal     265900  \n",
              "\n",
              "[1314 rows x 81 columns]"
            ],
            "text/html": [
              "\n",
              "  <div id=\"df-5d68c56e-2e3d-46ae-95ea-e6d3e67322c8\" class=\"colab-df-container\">\n",
              "    <div>\n",
              "<style scoped>\n",
              "    .dataframe tbody tr th:only-of-type {\n",
              "        vertical-align: middle;\n",
              "    }\n",
              "\n",
              "    .dataframe tbody tr th {\n",
              "        vertical-align: top;\n",
              "    }\n",
              "\n",
              "    .dataframe thead th {\n",
              "        text-align: right;\n",
              "    }\n",
              "</style>\n",
              "<table border=\"1\" class=\"dataframe\">\n",
              "  <thead>\n",
              "    <tr style=\"text-align: right;\">\n",
              "      <th></th>\n",
              "      <th>Id</th>\n",
              "      <th>MSSubClass</th>\n",
              "      <th>MSZoning</th>\n",
              "      <th>LotFrontage</th>\n",
              "      <th>LotArea</th>\n",
              "      <th>Street</th>\n",
              "      <th>Alley</th>\n",
              "      <th>LotShape</th>\n",
              "      <th>LandContour</th>\n",
              "      <th>Utilities</th>\n",
              "      <th>...</th>\n",
              "      <th>PoolArea</th>\n",
              "      <th>PoolQC</th>\n",
              "      <th>Fence</th>\n",
              "      <th>MiscFeature</th>\n",
              "      <th>MiscVal</th>\n",
              "      <th>MoSold</th>\n",
              "      <th>YrSold</th>\n",
              "      <th>SaleType</th>\n",
              "      <th>SaleCondition</th>\n",
              "      <th>SalePrice</th>\n",
              "    </tr>\n",
              "  </thead>\n",
              "  <tbody>\n",
              "    <tr>\n",
              "      <th>0</th>\n",
              "      <td>1030</td>\n",
              "      <td>160</td>\n",
              "      <td>RM</td>\n",
              "      <td>21.0</td>\n",
              "      <td>1680</td>\n",
              "      <td>Pave</td>\n",
              "      <td>NaN</td>\n",
              "      <td>Reg</td>\n",
              "      <td>Lvl</td>\n",
              "      <td>AllPub</td>\n",
              "      <td>...</td>\n",
              "      <td>0</td>\n",
              "      <td>NaN</td>\n",
              "      <td>NaN</td>\n",
              "      <td>NaN</td>\n",
              "      <td>0</td>\n",
              "      <td>5</td>\n",
              "      <td>2006</td>\n",
              "      <td>WD</td>\n",
              "      <td>Normal</td>\n",
              "      <td>118000</td>\n",
              "    </tr>\n",
              "    <tr>\n",
              "      <th>1</th>\n",
              "      <td>366</td>\n",
              "      <td>70</td>\n",
              "      <td>RM</td>\n",
              "      <td>59.0</td>\n",
              "      <td>10690</td>\n",
              "      <td>Pave</td>\n",
              "      <td>NaN</td>\n",
              "      <td>Reg</td>\n",
              "      <td>Lvl</td>\n",
              "      <td>AllPub</td>\n",
              "      <td>...</td>\n",
              "      <td>0</td>\n",
              "      <td>NaN</td>\n",
              "      <td>NaN</td>\n",
              "      <td>NaN</td>\n",
              "      <td>0</td>\n",
              "      <td>7</td>\n",
              "      <td>2009</td>\n",
              "      <td>WD</td>\n",
              "      <td>Normal</td>\n",
              "      <td>147000</td>\n",
              "    </tr>\n",
              "    <tr>\n",
              "      <th>2</th>\n",
              "      <td>883</td>\n",
              "      <td>60</td>\n",
              "      <td>RL</td>\n",
              "      <td>NaN</td>\n",
              "      <td>9636</td>\n",
              "      <td>Pave</td>\n",
              "      <td>NaN</td>\n",
              "      <td>IR1</td>\n",
              "      <td>Lvl</td>\n",
              "      <td>AllPub</td>\n",
              "      <td>...</td>\n",
              "      <td>0</td>\n",
              "      <td>NaN</td>\n",
              "      <td>MnPrv</td>\n",
              "      <td>NaN</td>\n",
              "      <td>0</td>\n",
              "      <td>12</td>\n",
              "      <td>2009</td>\n",
              "      <td>WD</td>\n",
              "      <td>Normal</td>\n",
              "      <td>178000</td>\n",
              "    </tr>\n",
              "    <tr>\n",
              "      <th>3</th>\n",
              "      <td>94</td>\n",
              "      <td>190</td>\n",
              "      <td>C (all)</td>\n",
              "      <td>60.0</td>\n",
              "      <td>7200</td>\n",
              "      <td>Pave</td>\n",
              "      <td>NaN</td>\n",
              "      <td>Reg</td>\n",
              "      <td>Lvl</td>\n",
              "      <td>AllPub</td>\n",
              "      <td>...</td>\n",
              "      <td>0</td>\n",
              "      <td>NaN</td>\n",
              "      <td>NaN</td>\n",
              "      <td>NaN</td>\n",
              "      <td>0</td>\n",
              "      <td>11</td>\n",
              "      <td>2007</td>\n",
              "      <td>WD</td>\n",
              "      <td>Normal</td>\n",
              "      <td>133900</td>\n",
              "    </tr>\n",
              "    <tr>\n",
              "      <th>4</th>\n",
              "      <td>1360</td>\n",
              "      <td>20</td>\n",
              "      <td>RL</td>\n",
              "      <td>129.0</td>\n",
              "      <td>16737</td>\n",
              "      <td>Pave</td>\n",
              "      <td>NaN</td>\n",
              "      <td>Reg</td>\n",
              "      <td>Lvl</td>\n",
              "      <td>AllPub</td>\n",
              "      <td>...</td>\n",
              "      <td>0</td>\n",
              "      <td>NaN</td>\n",
              "      <td>NaN</td>\n",
              "      <td>NaN</td>\n",
              "      <td>0</td>\n",
              "      <td>9</td>\n",
              "      <td>2006</td>\n",
              "      <td>WD</td>\n",
              "      <td>Normal</td>\n",
              "      <td>315000</td>\n",
              "    </tr>\n",
              "    <tr>\n",
              "      <th>...</th>\n",
              "      <td>...</td>\n",
              "      <td>...</td>\n",
              "      <td>...</td>\n",
              "      <td>...</td>\n",
              "      <td>...</td>\n",
              "      <td>...</td>\n",
              "      <td>...</td>\n",
              "      <td>...</td>\n",
              "      <td>...</td>\n",
              "      <td>...</td>\n",
              "      <td>...</td>\n",
              "      <td>...</td>\n",
              "      <td>...</td>\n",
              "      <td>...</td>\n",
              "      <td>...</td>\n",
              "      <td>...</td>\n",
              "      <td>...</td>\n",
              "      <td>...</td>\n",
              "      <td>...</td>\n",
              "      <td>...</td>\n",
              "      <td>...</td>\n",
              "    </tr>\n",
              "    <tr>\n",
              "      <th>1309</th>\n",
              "      <td>953</td>\n",
              "      <td>85</td>\n",
              "      <td>RL</td>\n",
              "      <td>60.0</td>\n",
              "      <td>7200</td>\n",
              "      <td>Pave</td>\n",
              "      <td>NaN</td>\n",
              "      <td>Reg</td>\n",
              "      <td>Lvl</td>\n",
              "      <td>AllPub</td>\n",
              "      <td>...</td>\n",
              "      <td>0</td>\n",
              "      <td>NaN</td>\n",
              "      <td>MnPrv</td>\n",
              "      <td>NaN</td>\n",
              "      <td>0</td>\n",
              "      <td>4</td>\n",
              "      <td>2009</td>\n",
              "      <td>WD</td>\n",
              "      <td>Normal</td>\n",
              "      <td>133900</td>\n",
              "    </tr>\n",
              "    <tr>\n",
              "      <th>1310</th>\n",
              "      <td>316</td>\n",
              "      <td>60</td>\n",
              "      <td>RL</td>\n",
              "      <td>71.0</td>\n",
              "      <td>7795</td>\n",
              "      <td>Pave</td>\n",
              "      <td>NaN</td>\n",
              "      <td>IR1</td>\n",
              "      <td>Lvl</td>\n",
              "      <td>AllPub</td>\n",
              "      <td>...</td>\n",
              "      <td>0</td>\n",
              "      <td>NaN</td>\n",
              "      <td>NaN</td>\n",
              "      <td>NaN</td>\n",
              "      <td>0</td>\n",
              "      <td>7</td>\n",
              "      <td>2009</td>\n",
              "      <td>WD</td>\n",
              "      <td>Normal</td>\n",
              "      <td>188500</td>\n",
              "    </tr>\n",
              "    <tr>\n",
              "      <th>1311</th>\n",
              "      <td>206</td>\n",
              "      <td>20</td>\n",
              "      <td>RL</td>\n",
              "      <td>99.0</td>\n",
              "      <td>11851</td>\n",
              "      <td>Pave</td>\n",
              "      <td>NaN</td>\n",
              "      <td>Reg</td>\n",
              "      <td>Lvl</td>\n",
              "      <td>AllPub</td>\n",
              "      <td>...</td>\n",
              "      <td>0</td>\n",
              "      <td>NaN</td>\n",
              "      <td>NaN</td>\n",
              "      <td>NaN</td>\n",
              "      <td>0</td>\n",
              "      <td>5</td>\n",
              "      <td>2009</td>\n",
              "      <td>WD</td>\n",
              "      <td>Normal</td>\n",
              "      <td>180500</td>\n",
              "    </tr>\n",
              "    <tr>\n",
              "      <th>1312</th>\n",
              "      <td>545</td>\n",
              "      <td>60</td>\n",
              "      <td>RL</td>\n",
              "      <td>58.0</td>\n",
              "      <td>17104</td>\n",
              "      <td>Pave</td>\n",
              "      <td>NaN</td>\n",
              "      <td>IR1</td>\n",
              "      <td>Lvl</td>\n",
              "      <td>AllPub</td>\n",
              "      <td>...</td>\n",
              "      <td>0</td>\n",
              "      <td>NaN</td>\n",
              "      <td>NaN</td>\n",
              "      <td>NaN</td>\n",
              "      <td>0</td>\n",
              "      <td>9</td>\n",
              "      <td>2006</td>\n",
              "      <td>New</td>\n",
              "      <td>Partial</td>\n",
              "      <td>179665</td>\n",
              "    </tr>\n",
              "    <tr>\n",
              "      <th>1313</th>\n",
              "      <td>1240</td>\n",
              "      <td>20</td>\n",
              "      <td>RL</td>\n",
              "      <td>64.0</td>\n",
              "      <td>9037</td>\n",
              "      <td>Pave</td>\n",
              "      <td>NaN</td>\n",
              "      <td>IR1</td>\n",
              "      <td>HLS</td>\n",
              "      <td>AllPub</td>\n",
              "      <td>...</td>\n",
              "      <td>0</td>\n",
              "      <td>NaN</td>\n",
              "      <td>NaN</td>\n",
              "      <td>NaN</td>\n",
              "      <td>0</td>\n",
              "      <td>12</td>\n",
              "      <td>2007</td>\n",
              "      <td>WD</td>\n",
              "      <td>Normal</td>\n",
              "      <td>265900</td>\n",
              "    </tr>\n",
              "  </tbody>\n",
              "</table>\n",
              "<p>1314 rows × 81 columns</p>\n",
              "</div>\n",
              "    <div class=\"colab-df-buttons\">\n",
              "\n",
              "  <div class=\"colab-df-container\">\n",
              "    <button class=\"colab-df-convert\" onclick=\"convertToInteractive('df-5d68c56e-2e3d-46ae-95ea-e6d3e67322c8')\"\n",
              "            title=\"Convert this dataframe to an interactive table.\"\n",
              "            style=\"display:none;\">\n",
              "\n",
              "  <svg xmlns=\"http://www.w3.org/2000/svg\" height=\"24px\" viewBox=\"0 -960 960 960\">\n",
              "    <path d=\"M120-120v-720h720v720H120Zm60-500h600v-160H180v160Zm220 220h160v-160H400v160Zm0 220h160v-160H400v160ZM180-400h160v-160H180v160Zm440 0h160v-160H620v160ZM180-180h160v-160H180v160Zm440 0h160v-160H620v160Z\"/>\n",
              "  </svg>\n",
              "    </button>\n",
              "\n",
              "  <style>\n",
              "    .colab-df-container {\n",
              "      display:flex;\n",
              "      gap: 12px;\n",
              "    }\n",
              "\n",
              "    .colab-df-convert {\n",
              "      background-color: #E8F0FE;\n",
              "      border: none;\n",
              "      border-radius: 50%;\n",
              "      cursor: pointer;\n",
              "      display: none;\n",
              "      fill: #1967D2;\n",
              "      height: 32px;\n",
              "      padding: 0 0 0 0;\n",
              "      width: 32px;\n",
              "    }\n",
              "\n",
              "    .colab-df-convert:hover {\n",
              "      background-color: #E2EBFA;\n",
              "      box-shadow: 0px 1px 2px rgba(60, 64, 67, 0.3), 0px 1px 3px 1px rgba(60, 64, 67, 0.15);\n",
              "      fill: #174EA6;\n",
              "    }\n",
              "\n",
              "    .colab-df-buttons div {\n",
              "      margin-bottom: 4px;\n",
              "    }\n",
              "\n",
              "    [theme=dark] .colab-df-convert {\n",
              "      background-color: #3B4455;\n",
              "      fill: #D2E3FC;\n",
              "    }\n",
              "\n",
              "    [theme=dark] .colab-df-convert:hover {\n",
              "      background-color: #434B5C;\n",
              "      box-shadow: 0px 1px 3px 1px rgba(0, 0, 0, 0.15);\n",
              "      filter: drop-shadow(0px 1px 2px rgba(0, 0, 0, 0.3));\n",
              "      fill: #FFFFFF;\n",
              "    }\n",
              "  </style>\n",
              "\n",
              "    <script>\n",
              "      const buttonEl =\n",
              "        document.querySelector('#df-5d68c56e-2e3d-46ae-95ea-e6d3e67322c8 button.colab-df-convert');\n",
              "      buttonEl.style.display =\n",
              "        google.colab.kernel.accessAllowed ? 'block' : 'none';\n",
              "\n",
              "      async function convertToInteractive(key) {\n",
              "        const element = document.querySelector('#df-5d68c56e-2e3d-46ae-95ea-e6d3e67322c8');\n",
              "        const dataTable =\n",
              "          await google.colab.kernel.invokeFunction('convertToInteractive',\n",
              "                                                    [key], {});\n",
              "        if (!dataTable) return;\n",
              "\n",
              "        const docLinkHtml = 'Like what you see? Visit the ' +\n",
              "          '<a target=\"_blank\" href=https://colab.research.google.com/notebooks/data_table.ipynb>data table notebook</a>'\n",
              "          + ' to learn more about interactive tables.';\n",
              "        element.innerHTML = '';\n",
              "        dataTable['output_type'] = 'display_data';\n",
              "        await google.colab.output.renderOutput(dataTable, element);\n",
              "        const docLink = document.createElement('div');\n",
              "        docLink.innerHTML = docLinkHtml;\n",
              "        element.appendChild(docLink);\n",
              "      }\n",
              "    </script>\n",
              "  </div>\n",
              "\n",
              "\n",
              "<div id=\"df-72cf2a24-7733-4b1f-9b6f-02d4a0013cef\">\n",
              "  <button class=\"colab-df-quickchart\" onclick=\"quickchart('df-72cf2a24-7733-4b1f-9b6f-02d4a0013cef')\"\n",
              "            title=\"Suggest charts\"\n",
              "            style=\"display:none;\">\n",
              "\n",
              "<svg xmlns=\"http://www.w3.org/2000/svg\" height=\"24px\"viewBox=\"0 0 24 24\"\n",
              "     width=\"24px\">\n",
              "    <g>\n",
              "        <path d=\"M19 3H5c-1.1 0-2 .9-2 2v14c0 1.1.9 2 2 2h14c1.1 0 2-.9 2-2V5c0-1.1-.9-2-2-2zM9 17H7v-7h2v7zm4 0h-2V7h2v10zm4 0h-2v-4h2v4z\"/>\n",
              "    </g>\n",
              "</svg>\n",
              "  </button>\n",
              "\n",
              "<style>\n",
              "  .colab-df-quickchart {\n",
              "      --bg-color: #E8F0FE;\n",
              "      --fill-color: #1967D2;\n",
              "      --hover-bg-color: #E2EBFA;\n",
              "      --hover-fill-color: #174EA6;\n",
              "      --disabled-fill-color: #AAA;\n",
              "      --disabled-bg-color: #DDD;\n",
              "  }\n",
              "\n",
              "  [theme=dark] .colab-df-quickchart {\n",
              "      --bg-color: #3B4455;\n",
              "      --fill-color: #D2E3FC;\n",
              "      --hover-bg-color: #434B5C;\n",
              "      --hover-fill-color: #FFFFFF;\n",
              "      --disabled-bg-color: #3B4455;\n",
              "      --disabled-fill-color: #666;\n",
              "  }\n",
              "\n",
              "  .colab-df-quickchart {\n",
              "    background-color: var(--bg-color);\n",
              "    border: none;\n",
              "    border-radius: 50%;\n",
              "    cursor: pointer;\n",
              "    display: none;\n",
              "    fill: var(--fill-color);\n",
              "    height: 32px;\n",
              "    padding: 0;\n",
              "    width: 32px;\n",
              "  }\n",
              "\n",
              "  .colab-df-quickchart:hover {\n",
              "    background-color: var(--hover-bg-color);\n",
              "    box-shadow: 0 1px 2px rgba(60, 64, 67, 0.3), 0 1px 3px 1px rgba(60, 64, 67, 0.15);\n",
              "    fill: var(--button-hover-fill-color);\n",
              "  }\n",
              "\n",
              "  .colab-df-quickchart-complete:disabled,\n",
              "  .colab-df-quickchart-complete:disabled:hover {\n",
              "    background-color: var(--disabled-bg-color);\n",
              "    fill: var(--disabled-fill-color);\n",
              "    box-shadow: none;\n",
              "  }\n",
              "\n",
              "  .colab-df-spinner {\n",
              "    border: 2px solid var(--fill-color);\n",
              "    border-color: transparent;\n",
              "    border-bottom-color: var(--fill-color);\n",
              "    animation:\n",
              "      spin 1s steps(1) infinite;\n",
              "  }\n",
              "\n",
              "  @keyframes spin {\n",
              "    0% {\n",
              "      border-color: transparent;\n",
              "      border-bottom-color: var(--fill-color);\n",
              "      border-left-color: var(--fill-color);\n",
              "    }\n",
              "    20% {\n",
              "      border-color: transparent;\n",
              "      border-left-color: var(--fill-color);\n",
              "      border-top-color: var(--fill-color);\n",
              "    }\n",
              "    30% {\n",
              "      border-color: transparent;\n",
              "      border-left-color: var(--fill-color);\n",
              "      border-top-color: var(--fill-color);\n",
              "      border-right-color: var(--fill-color);\n",
              "    }\n",
              "    40% {\n",
              "      border-color: transparent;\n",
              "      border-right-color: var(--fill-color);\n",
              "      border-top-color: var(--fill-color);\n",
              "    }\n",
              "    60% {\n",
              "      border-color: transparent;\n",
              "      border-right-color: var(--fill-color);\n",
              "    }\n",
              "    80% {\n",
              "      border-color: transparent;\n",
              "      border-right-color: var(--fill-color);\n",
              "      border-bottom-color: var(--fill-color);\n",
              "    }\n",
              "    90% {\n",
              "      border-color: transparent;\n",
              "      border-bottom-color: var(--fill-color);\n",
              "    }\n",
              "  }\n",
              "</style>\n",
              "\n",
              "  <script>\n",
              "    async function quickchart(key) {\n",
              "      const quickchartButtonEl =\n",
              "        document.querySelector('#' + key + ' button');\n",
              "      quickchartButtonEl.disabled = true;  // To prevent multiple clicks.\n",
              "      quickchartButtonEl.classList.add('colab-df-spinner');\n",
              "      try {\n",
              "        const charts = await google.colab.kernel.invokeFunction(\n",
              "            'suggestCharts', [key], {});\n",
              "      } catch (error) {\n",
              "        console.error('Error during call to suggestCharts:', error);\n",
              "      }\n",
              "      quickchartButtonEl.classList.remove('colab-df-spinner');\n",
              "      quickchartButtonEl.classList.add('colab-df-quickchart-complete');\n",
              "    }\n",
              "    (() => {\n",
              "      let quickchartButtonEl =\n",
              "        document.querySelector('#df-72cf2a24-7733-4b1f-9b6f-02d4a0013cef button');\n",
              "      quickchartButtonEl.style.display =\n",
              "        google.colab.kernel.accessAllowed ? 'block' : 'none';\n",
              "    })();\n",
              "  </script>\n",
              "</div>\n",
              "\n",
              "  <div id=\"id_03b4503d-34b0-4b01-9b84-3bdaa399d7e2\">\n",
              "    <style>\n",
              "      .colab-df-generate {\n",
              "        background-color: #E8F0FE;\n",
              "        border: none;\n",
              "        border-radius: 50%;\n",
              "        cursor: pointer;\n",
              "        display: none;\n",
              "        fill: #1967D2;\n",
              "        height: 32px;\n",
              "        padding: 0 0 0 0;\n",
              "        width: 32px;\n",
              "      }\n",
              "\n",
              "      .colab-df-generate:hover {\n",
              "        background-color: #E2EBFA;\n",
              "        box-shadow: 0px 1px 2px rgba(60, 64, 67, 0.3), 0px 1px 3px 1px rgba(60, 64, 67, 0.15);\n",
              "        fill: #174EA6;\n",
              "      }\n",
              "\n",
              "      [theme=dark] .colab-df-generate {\n",
              "        background-color: #3B4455;\n",
              "        fill: #D2E3FC;\n",
              "      }\n",
              "\n",
              "      [theme=dark] .colab-df-generate:hover {\n",
              "        background-color: #434B5C;\n",
              "        box-shadow: 0px 1px 3px 1px rgba(0, 0, 0, 0.15);\n",
              "        filter: drop-shadow(0px 1px 2px rgba(0, 0, 0, 0.3));\n",
              "        fill: #FFFFFF;\n",
              "      }\n",
              "    </style>\n",
              "    <button class=\"colab-df-generate\" onclick=\"generateWithVariable('data_train')\"\n",
              "            title=\"Generate code using this dataframe.\"\n",
              "            style=\"display:none;\">\n",
              "\n",
              "  <svg xmlns=\"http://www.w3.org/2000/svg\" height=\"24px\"viewBox=\"0 0 24 24\"\n",
              "       width=\"24px\">\n",
              "    <path d=\"M7,19H8.4L18.45,9,17,7.55,7,17.6ZM5,21V16.75L18.45,3.32a2,2,0,0,1,2.83,0l1.4,1.43a1.91,1.91,0,0,1,.58,1.4,1.91,1.91,0,0,1-.58,1.4L9.25,21ZM18.45,9,17,7.55Zm-12,3A5.31,5.31,0,0,0,4.9,8.1,5.31,5.31,0,0,0,1,6.5,5.31,5.31,0,0,0,4.9,4.9,5.31,5.31,0,0,0,6.5,1,5.31,5.31,0,0,0,8.1,4.9,5.31,5.31,0,0,0,12,6.5,5.46,5.46,0,0,0,6.5,12Z\"/>\n",
              "  </svg>\n",
              "    </button>\n",
              "    <script>\n",
              "      (() => {\n",
              "      const buttonEl =\n",
              "        document.querySelector('#id_03b4503d-34b0-4b01-9b84-3bdaa399d7e2 button.colab-df-generate');\n",
              "      buttonEl.style.display =\n",
              "        google.colab.kernel.accessAllowed ? 'block' : 'none';\n",
              "\n",
              "      buttonEl.onclick = () => {\n",
              "        google.colab.notebook.generateWithVariable('data_train');\n",
              "      }\n",
              "      })();\n",
              "    </script>\n",
              "  </div>\n",
              "\n",
              "    </div>\n",
              "  </div>\n"
            ],
            "application/vnd.google.colaboratory.intrinsic+json": {
              "type": "dataframe",
              "variable_name": "data_train"
            }
          },
          "metadata": {},
          "execution_count": 41
        }
      ]
    },
    {
      "cell_type": "code",
      "source": [
        "data_test"
      ],
      "metadata": {
        "colab": {
          "base_uri": "https://localhost:8080/",
          "height": 443
        },
        "id": "MAefexNxyqD7",
        "outputId": "62710bbf-0f77-42d6-b5aa-5679af6c5db0"
      },
      "execution_count": null,
      "outputs": [
        {
          "output_type": "execute_result",
          "data": {
            "text/plain": [
              "       Id  MSSubClass MSZoning  LotFrontage  LotArea Street Alley LotShape  \\\n",
              "0    1227          60       RL         86.0    14598   Pave   NaN      IR1   \n",
              "1     932          20       RL         70.0     9100   Pave   NaN      Reg   \n",
              "2     647          20       RL         60.0     7200   Pave   NaN      Reg   \n",
              "3     547          50       RL         70.0     8737   Pave   NaN      IR1   \n",
              "4     812         120       RM          NaN     4438   Pave   NaN      Reg   \n",
              "..    ...         ...      ...          ...      ...    ...   ...      ...   \n",
              "141   452          20       RL         62.0    70761   Pave   NaN      IR1   \n",
              "142  1168          60       RL         58.0    10852   Pave   NaN      IR1   \n",
              "143   641         120       RL         62.0    12677   Pave   NaN      IR1   \n",
              "144    93          30       RL         80.0    13360   Pave  Grvl      IR1   \n",
              "145  1042          60       RL          NaN     9130   Pave   NaN      Reg   \n",
              "\n",
              "    LandContour Utilities  ... PoolArea PoolQC Fence MiscFeature MiscVal  \\\n",
              "0           Lvl    AllPub  ...        0    NaN   NaN         NaN       0   \n",
              "1           Lvl    AllPub  ...        0    NaN  GdWo         NaN       0   \n",
              "2           Lvl    AllPub  ...        0    NaN   NaN         NaN       0   \n",
              "3           Bnk    AllPub  ...        0    NaN   NaN         NaN       0   \n",
              "4           Lvl    AllPub  ...        0    NaN   NaN         NaN       0   \n",
              "..          ...       ...  ...      ...    ...   ...         ...     ...   \n",
              "141         Low    AllPub  ...        0    NaN   NaN         NaN       0   \n",
              "142         Lvl    AllPub  ...        0    NaN   NaN         NaN       0   \n",
              "143         Lvl    AllPub  ...        0    NaN   NaN         NaN       0   \n",
              "144         HLS    AllPub  ...        0    NaN   NaN         NaN       0   \n",
              "145         Lvl    AllPub  ...        0    NaN   NaN         NaN       0   \n",
              "\n",
              "    MoSold YrSold  SaleType  SaleCondition  SalePrice  \n",
              "0        1   2008        WD         Normal     214000  \n",
              "1        7   2009        WD         Normal     117500  \n",
              "2        7   2008        WD         Normal      98300  \n",
              "3        5   2007        WD         Normal     210000  \n",
              "4        6   2008     ConLD         Normal     144500  \n",
              "..     ...    ...       ...            ...        ...  \n",
              "141     12   2006        WD         Normal     280000  \n",
              "142      2   2006        WD         Normal     173000  \n",
              "143      4   2008        WD         Normal     274000  \n",
              "144      8   2009        WD         Normal     163500  \n",
              "145      7   2008        WD         Normal     173000  \n",
              "\n",
              "[146 rows x 81 columns]"
            ],
            "text/html": [
              "\n",
              "  <div id=\"df-402502aa-63da-422e-8cc5-01c7f4f6c2db\" class=\"colab-df-container\">\n",
              "    <div>\n",
              "<style scoped>\n",
              "    .dataframe tbody tr th:only-of-type {\n",
              "        vertical-align: middle;\n",
              "    }\n",
              "\n",
              "    .dataframe tbody tr th {\n",
              "        vertical-align: top;\n",
              "    }\n",
              "\n",
              "    .dataframe thead th {\n",
              "        text-align: right;\n",
              "    }\n",
              "</style>\n",
              "<table border=\"1\" class=\"dataframe\">\n",
              "  <thead>\n",
              "    <tr style=\"text-align: right;\">\n",
              "      <th></th>\n",
              "      <th>Id</th>\n",
              "      <th>MSSubClass</th>\n",
              "      <th>MSZoning</th>\n",
              "      <th>LotFrontage</th>\n",
              "      <th>LotArea</th>\n",
              "      <th>Street</th>\n",
              "      <th>Alley</th>\n",
              "      <th>LotShape</th>\n",
              "      <th>LandContour</th>\n",
              "      <th>Utilities</th>\n",
              "      <th>...</th>\n",
              "      <th>PoolArea</th>\n",
              "      <th>PoolQC</th>\n",
              "      <th>Fence</th>\n",
              "      <th>MiscFeature</th>\n",
              "      <th>MiscVal</th>\n",
              "      <th>MoSold</th>\n",
              "      <th>YrSold</th>\n",
              "      <th>SaleType</th>\n",
              "      <th>SaleCondition</th>\n",
              "      <th>SalePrice</th>\n",
              "    </tr>\n",
              "  </thead>\n",
              "  <tbody>\n",
              "    <tr>\n",
              "      <th>0</th>\n",
              "      <td>1227</td>\n",
              "      <td>60</td>\n",
              "      <td>RL</td>\n",
              "      <td>86.0</td>\n",
              "      <td>14598</td>\n",
              "      <td>Pave</td>\n",
              "      <td>NaN</td>\n",
              "      <td>IR1</td>\n",
              "      <td>Lvl</td>\n",
              "      <td>AllPub</td>\n",
              "      <td>...</td>\n",
              "      <td>0</td>\n",
              "      <td>NaN</td>\n",
              "      <td>NaN</td>\n",
              "      <td>NaN</td>\n",
              "      <td>0</td>\n",
              "      <td>1</td>\n",
              "      <td>2008</td>\n",
              "      <td>WD</td>\n",
              "      <td>Normal</td>\n",
              "      <td>214000</td>\n",
              "    </tr>\n",
              "    <tr>\n",
              "      <th>1</th>\n",
              "      <td>932</td>\n",
              "      <td>20</td>\n",
              "      <td>RL</td>\n",
              "      <td>70.0</td>\n",
              "      <td>9100</td>\n",
              "      <td>Pave</td>\n",
              "      <td>NaN</td>\n",
              "      <td>Reg</td>\n",
              "      <td>Lvl</td>\n",
              "      <td>AllPub</td>\n",
              "      <td>...</td>\n",
              "      <td>0</td>\n",
              "      <td>NaN</td>\n",
              "      <td>GdWo</td>\n",
              "      <td>NaN</td>\n",
              "      <td>0</td>\n",
              "      <td>7</td>\n",
              "      <td>2009</td>\n",
              "      <td>WD</td>\n",
              "      <td>Normal</td>\n",
              "      <td>117500</td>\n",
              "    </tr>\n",
              "    <tr>\n",
              "      <th>2</th>\n",
              "      <td>647</td>\n",
              "      <td>20</td>\n",
              "      <td>RL</td>\n",
              "      <td>60.0</td>\n",
              "      <td>7200</td>\n",
              "      <td>Pave</td>\n",
              "      <td>NaN</td>\n",
              "      <td>Reg</td>\n",
              "      <td>Lvl</td>\n",
              "      <td>AllPub</td>\n",
              "      <td>...</td>\n",
              "      <td>0</td>\n",
              "      <td>NaN</td>\n",
              "      <td>NaN</td>\n",
              "      <td>NaN</td>\n",
              "      <td>0</td>\n",
              "      <td>7</td>\n",
              "      <td>2008</td>\n",
              "      <td>WD</td>\n",
              "      <td>Normal</td>\n",
              "      <td>98300</td>\n",
              "    </tr>\n",
              "    <tr>\n",
              "      <th>3</th>\n",
              "      <td>547</td>\n",
              "      <td>50</td>\n",
              "      <td>RL</td>\n",
              "      <td>70.0</td>\n",
              "      <td>8737</td>\n",
              "      <td>Pave</td>\n",
              "      <td>NaN</td>\n",
              "      <td>IR1</td>\n",
              "      <td>Bnk</td>\n",
              "      <td>AllPub</td>\n",
              "      <td>...</td>\n",
              "      <td>0</td>\n",
              "      <td>NaN</td>\n",
              "      <td>NaN</td>\n",
              "      <td>NaN</td>\n",
              "      <td>0</td>\n",
              "      <td>5</td>\n",
              "      <td>2007</td>\n",
              "      <td>WD</td>\n",
              "      <td>Normal</td>\n",
              "      <td>210000</td>\n",
              "    </tr>\n",
              "    <tr>\n",
              "      <th>4</th>\n",
              "      <td>812</td>\n",
              "      <td>120</td>\n",
              "      <td>RM</td>\n",
              "      <td>NaN</td>\n",
              "      <td>4438</td>\n",
              "      <td>Pave</td>\n",
              "      <td>NaN</td>\n",
              "      <td>Reg</td>\n",
              "      <td>Lvl</td>\n",
              "      <td>AllPub</td>\n",
              "      <td>...</td>\n",
              "      <td>0</td>\n",
              "      <td>NaN</td>\n",
              "      <td>NaN</td>\n",
              "      <td>NaN</td>\n",
              "      <td>0</td>\n",
              "      <td>6</td>\n",
              "      <td>2008</td>\n",
              "      <td>ConLD</td>\n",
              "      <td>Normal</td>\n",
              "      <td>144500</td>\n",
              "    </tr>\n",
              "    <tr>\n",
              "      <th>...</th>\n",
              "      <td>...</td>\n",
              "      <td>...</td>\n",
              "      <td>...</td>\n",
              "      <td>...</td>\n",
              "      <td>...</td>\n",
              "      <td>...</td>\n",
              "      <td>...</td>\n",
              "      <td>...</td>\n",
              "      <td>...</td>\n",
              "      <td>...</td>\n",
              "      <td>...</td>\n",
              "      <td>...</td>\n",
              "      <td>...</td>\n",
              "      <td>...</td>\n",
              "      <td>...</td>\n",
              "      <td>...</td>\n",
              "      <td>...</td>\n",
              "      <td>...</td>\n",
              "      <td>...</td>\n",
              "      <td>...</td>\n",
              "      <td>...</td>\n",
              "    </tr>\n",
              "    <tr>\n",
              "      <th>141</th>\n",
              "      <td>452</td>\n",
              "      <td>20</td>\n",
              "      <td>RL</td>\n",
              "      <td>62.0</td>\n",
              "      <td>70761</td>\n",
              "      <td>Pave</td>\n",
              "      <td>NaN</td>\n",
              "      <td>IR1</td>\n",
              "      <td>Low</td>\n",
              "      <td>AllPub</td>\n",
              "      <td>...</td>\n",
              "      <td>0</td>\n",
              "      <td>NaN</td>\n",
              "      <td>NaN</td>\n",
              "      <td>NaN</td>\n",
              "      <td>0</td>\n",
              "      <td>12</td>\n",
              "      <td>2006</td>\n",
              "      <td>WD</td>\n",
              "      <td>Normal</td>\n",
              "      <td>280000</td>\n",
              "    </tr>\n",
              "    <tr>\n",
              "      <th>142</th>\n",
              "      <td>1168</td>\n",
              "      <td>60</td>\n",
              "      <td>RL</td>\n",
              "      <td>58.0</td>\n",
              "      <td>10852</td>\n",
              "      <td>Pave</td>\n",
              "      <td>NaN</td>\n",
              "      <td>IR1</td>\n",
              "      <td>Lvl</td>\n",
              "      <td>AllPub</td>\n",
              "      <td>...</td>\n",
              "      <td>0</td>\n",
              "      <td>NaN</td>\n",
              "      <td>NaN</td>\n",
              "      <td>NaN</td>\n",
              "      <td>0</td>\n",
              "      <td>2</td>\n",
              "      <td>2006</td>\n",
              "      <td>WD</td>\n",
              "      <td>Normal</td>\n",
              "      <td>173000</td>\n",
              "    </tr>\n",
              "    <tr>\n",
              "      <th>143</th>\n",
              "      <td>641</td>\n",
              "      <td>120</td>\n",
              "      <td>RL</td>\n",
              "      <td>62.0</td>\n",
              "      <td>12677</td>\n",
              "      <td>Pave</td>\n",
              "      <td>NaN</td>\n",
              "      <td>IR1</td>\n",
              "      <td>Lvl</td>\n",
              "      <td>AllPub</td>\n",
              "      <td>...</td>\n",
              "      <td>0</td>\n",
              "      <td>NaN</td>\n",
              "      <td>NaN</td>\n",
              "      <td>NaN</td>\n",
              "      <td>0</td>\n",
              "      <td>4</td>\n",
              "      <td>2008</td>\n",
              "      <td>WD</td>\n",
              "      <td>Normal</td>\n",
              "      <td>274000</td>\n",
              "    </tr>\n",
              "    <tr>\n",
              "      <th>144</th>\n",
              "      <td>93</td>\n",
              "      <td>30</td>\n",
              "      <td>RL</td>\n",
              "      <td>80.0</td>\n",
              "      <td>13360</td>\n",
              "      <td>Pave</td>\n",
              "      <td>Grvl</td>\n",
              "      <td>IR1</td>\n",
              "      <td>HLS</td>\n",
              "      <td>AllPub</td>\n",
              "      <td>...</td>\n",
              "      <td>0</td>\n",
              "      <td>NaN</td>\n",
              "      <td>NaN</td>\n",
              "      <td>NaN</td>\n",
              "      <td>0</td>\n",
              "      <td>8</td>\n",
              "      <td>2009</td>\n",
              "      <td>WD</td>\n",
              "      <td>Normal</td>\n",
              "      <td>163500</td>\n",
              "    </tr>\n",
              "    <tr>\n",
              "      <th>145</th>\n",
              "      <td>1042</td>\n",
              "      <td>60</td>\n",
              "      <td>RL</td>\n",
              "      <td>NaN</td>\n",
              "      <td>9130</td>\n",
              "      <td>Pave</td>\n",
              "      <td>NaN</td>\n",
              "      <td>Reg</td>\n",
              "      <td>Lvl</td>\n",
              "      <td>AllPub</td>\n",
              "      <td>...</td>\n",
              "      <td>0</td>\n",
              "      <td>NaN</td>\n",
              "      <td>NaN</td>\n",
              "      <td>NaN</td>\n",
              "      <td>0</td>\n",
              "      <td>7</td>\n",
              "      <td>2008</td>\n",
              "      <td>WD</td>\n",
              "      <td>Normal</td>\n",
              "      <td>173000</td>\n",
              "    </tr>\n",
              "  </tbody>\n",
              "</table>\n",
              "<p>146 rows × 81 columns</p>\n",
              "</div>\n",
              "    <div class=\"colab-df-buttons\">\n",
              "\n",
              "  <div class=\"colab-df-container\">\n",
              "    <button class=\"colab-df-convert\" onclick=\"convertToInteractive('df-402502aa-63da-422e-8cc5-01c7f4f6c2db')\"\n",
              "            title=\"Convert this dataframe to an interactive table.\"\n",
              "            style=\"display:none;\">\n",
              "\n",
              "  <svg xmlns=\"http://www.w3.org/2000/svg\" height=\"24px\" viewBox=\"0 -960 960 960\">\n",
              "    <path d=\"M120-120v-720h720v720H120Zm60-500h600v-160H180v160Zm220 220h160v-160H400v160Zm0 220h160v-160H400v160ZM180-400h160v-160H180v160Zm440 0h160v-160H620v160ZM180-180h160v-160H180v160Zm440 0h160v-160H620v160Z\"/>\n",
              "  </svg>\n",
              "    </button>\n",
              "\n",
              "  <style>\n",
              "    .colab-df-container {\n",
              "      display:flex;\n",
              "      gap: 12px;\n",
              "    }\n",
              "\n",
              "    .colab-df-convert {\n",
              "      background-color: #E8F0FE;\n",
              "      border: none;\n",
              "      border-radius: 50%;\n",
              "      cursor: pointer;\n",
              "      display: none;\n",
              "      fill: #1967D2;\n",
              "      height: 32px;\n",
              "      padding: 0 0 0 0;\n",
              "      width: 32px;\n",
              "    }\n",
              "\n",
              "    .colab-df-convert:hover {\n",
              "      background-color: #E2EBFA;\n",
              "      box-shadow: 0px 1px 2px rgba(60, 64, 67, 0.3), 0px 1px 3px 1px rgba(60, 64, 67, 0.15);\n",
              "      fill: #174EA6;\n",
              "    }\n",
              "\n",
              "    .colab-df-buttons div {\n",
              "      margin-bottom: 4px;\n",
              "    }\n",
              "\n",
              "    [theme=dark] .colab-df-convert {\n",
              "      background-color: #3B4455;\n",
              "      fill: #D2E3FC;\n",
              "    }\n",
              "\n",
              "    [theme=dark] .colab-df-convert:hover {\n",
              "      background-color: #434B5C;\n",
              "      box-shadow: 0px 1px 3px 1px rgba(0, 0, 0, 0.15);\n",
              "      filter: drop-shadow(0px 1px 2px rgba(0, 0, 0, 0.3));\n",
              "      fill: #FFFFFF;\n",
              "    }\n",
              "  </style>\n",
              "\n",
              "    <script>\n",
              "      const buttonEl =\n",
              "        document.querySelector('#df-402502aa-63da-422e-8cc5-01c7f4f6c2db button.colab-df-convert');\n",
              "      buttonEl.style.display =\n",
              "        google.colab.kernel.accessAllowed ? 'block' : 'none';\n",
              "\n",
              "      async function convertToInteractive(key) {\n",
              "        const element = document.querySelector('#df-402502aa-63da-422e-8cc5-01c7f4f6c2db');\n",
              "        const dataTable =\n",
              "          await google.colab.kernel.invokeFunction('convertToInteractive',\n",
              "                                                    [key], {});\n",
              "        if (!dataTable) return;\n",
              "\n",
              "        const docLinkHtml = 'Like what you see? Visit the ' +\n",
              "          '<a target=\"_blank\" href=https://colab.research.google.com/notebooks/data_table.ipynb>data table notebook</a>'\n",
              "          + ' to learn more about interactive tables.';\n",
              "        element.innerHTML = '';\n",
              "        dataTable['output_type'] = 'display_data';\n",
              "        await google.colab.output.renderOutput(dataTable, element);\n",
              "        const docLink = document.createElement('div');\n",
              "        docLink.innerHTML = docLinkHtml;\n",
              "        element.appendChild(docLink);\n",
              "      }\n",
              "    </script>\n",
              "  </div>\n",
              "\n",
              "\n",
              "<div id=\"df-783d1612-699c-4038-91da-7ed846fdf236\">\n",
              "  <button class=\"colab-df-quickchart\" onclick=\"quickchart('df-783d1612-699c-4038-91da-7ed846fdf236')\"\n",
              "            title=\"Suggest charts\"\n",
              "            style=\"display:none;\">\n",
              "\n",
              "<svg xmlns=\"http://www.w3.org/2000/svg\" height=\"24px\"viewBox=\"0 0 24 24\"\n",
              "     width=\"24px\">\n",
              "    <g>\n",
              "        <path d=\"M19 3H5c-1.1 0-2 .9-2 2v14c0 1.1.9 2 2 2h14c1.1 0 2-.9 2-2V5c0-1.1-.9-2-2-2zM9 17H7v-7h2v7zm4 0h-2V7h2v10zm4 0h-2v-4h2v4z\"/>\n",
              "    </g>\n",
              "</svg>\n",
              "  </button>\n",
              "\n",
              "<style>\n",
              "  .colab-df-quickchart {\n",
              "      --bg-color: #E8F0FE;\n",
              "      --fill-color: #1967D2;\n",
              "      --hover-bg-color: #E2EBFA;\n",
              "      --hover-fill-color: #174EA6;\n",
              "      --disabled-fill-color: #AAA;\n",
              "      --disabled-bg-color: #DDD;\n",
              "  }\n",
              "\n",
              "  [theme=dark] .colab-df-quickchart {\n",
              "      --bg-color: #3B4455;\n",
              "      --fill-color: #D2E3FC;\n",
              "      --hover-bg-color: #434B5C;\n",
              "      --hover-fill-color: #FFFFFF;\n",
              "      --disabled-bg-color: #3B4455;\n",
              "      --disabled-fill-color: #666;\n",
              "  }\n",
              "\n",
              "  .colab-df-quickchart {\n",
              "    background-color: var(--bg-color);\n",
              "    border: none;\n",
              "    border-radius: 50%;\n",
              "    cursor: pointer;\n",
              "    display: none;\n",
              "    fill: var(--fill-color);\n",
              "    height: 32px;\n",
              "    padding: 0;\n",
              "    width: 32px;\n",
              "  }\n",
              "\n",
              "  .colab-df-quickchart:hover {\n",
              "    background-color: var(--hover-bg-color);\n",
              "    box-shadow: 0 1px 2px rgba(60, 64, 67, 0.3), 0 1px 3px 1px rgba(60, 64, 67, 0.15);\n",
              "    fill: var(--button-hover-fill-color);\n",
              "  }\n",
              "\n",
              "  .colab-df-quickchart-complete:disabled,\n",
              "  .colab-df-quickchart-complete:disabled:hover {\n",
              "    background-color: var(--disabled-bg-color);\n",
              "    fill: var(--disabled-fill-color);\n",
              "    box-shadow: none;\n",
              "  }\n",
              "\n",
              "  .colab-df-spinner {\n",
              "    border: 2px solid var(--fill-color);\n",
              "    border-color: transparent;\n",
              "    border-bottom-color: var(--fill-color);\n",
              "    animation:\n",
              "      spin 1s steps(1) infinite;\n",
              "  }\n",
              "\n",
              "  @keyframes spin {\n",
              "    0% {\n",
              "      border-color: transparent;\n",
              "      border-bottom-color: var(--fill-color);\n",
              "      border-left-color: var(--fill-color);\n",
              "    }\n",
              "    20% {\n",
              "      border-color: transparent;\n",
              "      border-left-color: var(--fill-color);\n",
              "      border-top-color: var(--fill-color);\n",
              "    }\n",
              "    30% {\n",
              "      border-color: transparent;\n",
              "      border-left-color: var(--fill-color);\n",
              "      border-top-color: var(--fill-color);\n",
              "      border-right-color: var(--fill-color);\n",
              "    }\n",
              "    40% {\n",
              "      border-color: transparent;\n",
              "      border-right-color: var(--fill-color);\n",
              "      border-top-color: var(--fill-color);\n",
              "    }\n",
              "    60% {\n",
              "      border-color: transparent;\n",
              "      border-right-color: var(--fill-color);\n",
              "    }\n",
              "    80% {\n",
              "      border-color: transparent;\n",
              "      border-right-color: var(--fill-color);\n",
              "      border-bottom-color: var(--fill-color);\n",
              "    }\n",
              "    90% {\n",
              "      border-color: transparent;\n",
              "      border-bottom-color: var(--fill-color);\n",
              "    }\n",
              "  }\n",
              "</style>\n",
              "\n",
              "  <script>\n",
              "    async function quickchart(key) {\n",
              "      const quickchartButtonEl =\n",
              "        document.querySelector('#' + key + ' button');\n",
              "      quickchartButtonEl.disabled = true;  // To prevent multiple clicks.\n",
              "      quickchartButtonEl.classList.add('colab-df-spinner');\n",
              "      try {\n",
              "        const charts = await google.colab.kernel.invokeFunction(\n",
              "            'suggestCharts', [key], {});\n",
              "      } catch (error) {\n",
              "        console.error('Error during call to suggestCharts:', error);\n",
              "      }\n",
              "      quickchartButtonEl.classList.remove('colab-df-spinner');\n",
              "      quickchartButtonEl.classList.add('colab-df-quickchart-complete');\n",
              "    }\n",
              "    (() => {\n",
              "      let quickchartButtonEl =\n",
              "        document.querySelector('#df-783d1612-699c-4038-91da-7ed846fdf236 button');\n",
              "      quickchartButtonEl.style.display =\n",
              "        google.colab.kernel.accessAllowed ? 'block' : 'none';\n",
              "    })();\n",
              "  </script>\n",
              "</div>\n",
              "\n",
              "  <div id=\"id_e2cac6de-0482-4c54-b108-aac109c931c7\">\n",
              "    <style>\n",
              "      .colab-df-generate {\n",
              "        background-color: #E8F0FE;\n",
              "        border: none;\n",
              "        border-radius: 50%;\n",
              "        cursor: pointer;\n",
              "        display: none;\n",
              "        fill: #1967D2;\n",
              "        height: 32px;\n",
              "        padding: 0 0 0 0;\n",
              "        width: 32px;\n",
              "      }\n",
              "\n",
              "      .colab-df-generate:hover {\n",
              "        background-color: #E2EBFA;\n",
              "        box-shadow: 0px 1px 2px rgba(60, 64, 67, 0.3), 0px 1px 3px 1px rgba(60, 64, 67, 0.15);\n",
              "        fill: #174EA6;\n",
              "      }\n",
              "\n",
              "      [theme=dark] .colab-df-generate {\n",
              "        background-color: #3B4455;\n",
              "        fill: #D2E3FC;\n",
              "      }\n",
              "\n",
              "      [theme=dark] .colab-df-generate:hover {\n",
              "        background-color: #434B5C;\n",
              "        box-shadow: 0px 1px 3px 1px rgba(0, 0, 0, 0.15);\n",
              "        filter: drop-shadow(0px 1px 2px rgba(0, 0, 0, 0.3));\n",
              "        fill: #FFFFFF;\n",
              "      }\n",
              "    </style>\n",
              "    <button class=\"colab-df-generate\" onclick=\"generateWithVariable('data_test')\"\n",
              "            title=\"Generate code using this dataframe.\"\n",
              "            style=\"display:none;\">\n",
              "\n",
              "  <svg xmlns=\"http://www.w3.org/2000/svg\" height=\"24px\"viewBox=\"0 0 24 24\"\n",
              "       width=\"24px\">\n",
              "    <path d=\"M7,19H8.4L18.45,9,17,7.55,7,17.6ZM5,21V16.75L18.45,3.32a2,2,0,0,1,2.83,0l1.4,1.43a1.91,1.91,0,0,1,.58,1.4,1.91,1.91,0,0,1-.58,1.4L9.25,21ZM18.45,9,17,7.55Zm-12,3A5.31,5.31,0,0,0,4.9,8.1,5.31,5.31,0,0,0,1,6.5,5.31,5.31,0,0,0,4.9,4.9,5.31,5.31,0,0,0,6.5,1,5.31,5.31,0,0,0,8.1,4.9,5.31,5.31,0,0,0,12,6.5,5.46,5.46,0,0,0,6.5,12Z\"/>\n",
              "  </svg>\n",
              "    </button>\n",
              "    <script>\n",
              "      (() => {\n",
              "      const buttonEl =\n",
              "        document.querySelector('#id_e2cac6de-0482-4c54-b108-aac109c931c7 button.colab-df-generate');\n",
              "      buttonEl.style.display =\n",
              "        google.colab.kernel.accessAllowed ? 'block' : 'none';\n",
              "\n",
              "      buttonEl.onclick = () => {\n",
              "        google.colab.notebook.generateWithVariable('data_test');\n",
              "      }\n",
              "      })();\n",
              "    </script>\n",
              "  </div>\n",
              "\n",
              "    </div>\n",
              "  </div>\n"
            ],
            "application/vnd.google.colaboratory.intrinsic+json": {
              "type": "dataframe",
              "variable_name": "data_test"
            }
          },
          "metadata": {},
          "execution_count": 45
        }
      ]
    },
    {
      "cell_type": "code",
      "source": [
        "data_train.info()"
      ],
      "metadata": {
        "colab": {
          "base_uri": "https://localhost:8080/"
        },
        "id": "h-U7mBYmBA_O",
        "outputId": "11b115e8-a56f-44e8-d8ab-013b6463b370"
      },
      "execution_count": null,
      "outputs": [
        {
          "output_type": "stream",
          "name": "stdout",
          "text": [
            "<class 'pandas.core.frame.DataFrame'>\n",
            "RangeIndex: 1314 entries, 0 to 1313\n",
            "Data columns (total 81 columns):\n",
            " #   Column         Non-Null Count  Dtype  \n",
            "---  ------         --------------  -----  \n",
            " 0   Id             1314 non-null   int64  \n",
            " 1   MSSubClass     1314 non-null   int64  \n",
            " 2   MSZoning       1314 non-null   object \n",
            " 3   LotFrontage    1078 non-null   float64\n",
            " 4   LotArea        1314 non-null   int64  \n",
            " 5   Street         1314 non-null   object \n",
            " 6   Alley          83 non-null     object \n",
            " 7   LotShape       1314 non-null   object \n",
            " 8   LandContour    1314 non-null   object \n",
            " 9   Utilities      1314 non-null   object \n",
            " 10  LotConfig      1314 non-null   object \n",
            " 11  LandSlope      1314 non-null   object \n",
            " 12  Neighborhood   1314 non-null   object \n",
            " 13  Condition1     1314 non-null   object \n",
            " 14  Condition2     1314 non-null   object \n",
            " 15  BldgType       1314 non-null   object \n",
            " 16  HouseStyle     1314 non-null   object \n",
            " 17  OverallQual    1314 non-null   int64  \n",
            " 18  OverallCond    1314 non-null   int64  \n",
            " 19  YearBuilt      1314 non-null   int64  \n",
            " 20  YearRemodAdd   1314 non-null   int64  \n",
            " 21  RoofStyle      1314 non-null   object \n",
            " 22  RoofMatl       1314 non-null   object \n",
            " 23  Exterior1st    1314 non-null   object \n",
            " 24  Exterior2nd    1314 non-null   object \n",
            " 25  MasVnrType     526 non-null    object \n",
            " 26  MasVnrArea     1307 non-null   float64\n",
            " 27  ExterQual      1314 non-null   object \n",
            " 28  ExterCond      1314 non-null   object \n",
            " 29  Foundation     1314 non-null   object \n",
            " 30  BsmtQual       1283 non-null   object \n",
            " 31  BsmtCond       1283 non-null   object \n",
            " 32  BsmtExposure   1282 non-null   object \n",
            " 33  BsmtFinType1   1283 non-null   object \n",
            " 34  BsmtFinSF1     1314 non-null   int64  \n",
            " 35  BsmtFinType2   1282 non-null   object \n",
            " 36  BsmtFinSF2     1314 non-null   int64  \n",
            " 37  BsmtUnfSF      1314 non-null   int64  \n",
            " 38  TotalBsmtSF    1314 non-null   int64  \n",
            " 39  Heating        1314 non-null   object \n",
            " 40  HeatingQC      1314 non-null   object \n",
            " 41  CentralAir     1314 non-null   object \n",
            " 42  Electrical     1313 non-null   object \n",
            " 43  1stFlrSF       1314 non-null   int64  \n",
            " 44  2ndFlrSF       1314 non-null   int64  \n",
            " 45  LowQualFinSF   1314 non-null   int64  \n",
            " 46  GrLivArea      1314 non-null   int64  \n",
            " 47  BsmtFullBath   1314 non-null   int64  \n",
            " 48  BsmtHalfBath   1314 non-null   int64  \n",
            " 49  FullBath       1314 non-null   int64  \n",
            " 50  HalfBath       1314 non-null   int64  \n",
            " 51  BedroomAbvGr   1314 non-null   int64  \n",
            " 52  KitchenAbvGr   1314 non-null   int64  \n",
            " 53  KitchenQual    1314 non-null   object \n",
            " 54  TotRmsAbvGrd   1314 non-null   int64  \n",
            " 55  Functional     1314 non-null   object \n",
            " 56  Fireplaces     1314 non-null   int64  \n",
            " 57  FireplaceQu    693 non-null    object \n",
            " 58  GarageType     1236 non-null   object \n",
            " 59  GarageYrBlt    1236 non-null   float64\n",
            " 60  GarageFinish   1236 non-null   object \n",
            " 61  GarageCars     1314 non-null   int64  \n",
            " 62  GarageArea     1314 non-null   int64  \n",
            " 63  GarageQual     1236 non-null   object \n",
            " 64  GarageCond     1236 non-null   object \n",
            " 65  PavedDrive     1314 non-null   object \n",
            " 66  WoodDeckSF     1314 non-null   int64  \n",
            " 67  OpenPorchSF    1314 non-null   int64  \n",
            " 68  EnclosedPorch  1314 non-null   int64  \n",
            " 69  3SsnPorch      1314 non-null   int64  \n",
            " 70  ScreenPorch    1314 non-null   int64  \n",
            " 71  PoolArea       1314 non-null   int64  \n",
            " 72  PoolQC         7 non-null      object \n",
            " 73  Fence          246 non-null    object \n",
            " 74  MiscFeature    48 non-null     object \n",
            " 75  MiscVal        1314 non-null   int64  \n",
            " 76  MoSold         1314 non-null   int64  \n",
            " 77  YrSold         1314 non-null   int64  \n",
            " 78  SaleType       1314 non-null   object \n",
            " 79  SaleCondition  1314 non-null   object \n",
            " 80  SalePrice      1314 non-null   int64  \n",
            "dtypes: float64(3), int64(35), object(43)\n",
            "memory usage: 831.6+ KB\n"
          ]
        }
      ]
    },
    {
      "cell_type": "code",
      "source": [
        "# Проверим, есть ли пропущенные значения\n",
        "data_train.isnull().sum()"
      ],
      "metadata": {
        "colab": {
          "base_uri": "https://localhost:8080/",
          "height": 458
        },
        "id": "VtTqQBO_CMDv",
        "outputId": "b91d9fd3-bd0e-440a-989a-aaf007e2627e"
      },
      "execution_count": null,
      "outputs": [
        {
          "output_type": "execute_result",
          "data": {
            "text/plain": [
              "Id                 0\n",
              "MSSubClass         0\n",
              "MSZoning           0\n",
              "LotFrontage      236\n",
              "LotArea            0\n",
              "                ... \n",
              "MoSold             0\n",
              "YrSold             0\n",
              "SaleType           0\n",
              "SaleCondition      0\n",
              "SalePrice          0\n",
              "Length: 81, dtype: int64"
            ],
            "text/html": [
              "<div>\n",
              "<style scoped>\n",
              "    .dataframe tbody tr th:only-of-type {\n",
              "        vertical-align: middle;\n",
              "    }\n",
              "\n",
              "    .dataframe tbody tr th {\n",
              "        vertical-align: top;\n",
              "    }\n",
              "\n",
              "    .dataframe thead th {\n",
              "        text-align: right;\n",
              "    }\n",
              "</style>\n",
              "<table border=\"1\" class=\"dataframe\">\n",
              "  <thead>\n",
              "    <tr style=\"text-align: right;\">\n",
              "      <th></th>\n",
              "      <th>0</th>\n",
              "    </tr>\n",
              "  </thead>\n",
              "  <tbody>\n",
              "    <tr>\n",
              "      <th>Id</th>\n",
              "      <td>0</td>\n",
              "    </tr>\n",
              "    <tr>\n",
              "      <th>MSSubClass</th>\n",
              "      <td>0</td>\n",
              "    </tr>\n",
              "    <tr>\n",
              "      <th>MSZoning</th>\n",
              "      <td>0</td>\n",
              "    </tr>\n",
              "    <tr>\n",
              "      <th>LotFrontage</th>\n",
              "      <td>236</td>\n",
              "    </tr>\n",
              "    <tr>\n",
              "      <th>LotArea</th>\n",
              "      <td>0</td>\n",
              "    </tr>\n",
              "    <tr>\n",
              "      <th>...</th>\n",
              "      <td>...</td>\n",
              "    </tr>\n",
              "    <tr>\n",
              "      <th>MoSold</th>\n",
              "      <td>0</td>\n",
              "    </tr>\n",
              "    <tr>\n",
              "      <th>YrSold</th>\n",
              "      <td>0</td>\n",
              "    </tr>\n",
              "    <tr>\n",
              "      <th>SaleType</th>\n",
              "      <td>0</td>\n",
              "    </tr>\n",
              "    <tr>\n",
              "      <th>SaleCondition</th>\n",
              "      <td>0</td>\n",
              "    </tr>\n",
              "    <tr>\n",
              "      <th>SalePrice</th>\n",
              "      <td>0</td>\n",
              "    </tr>\n",
              "  </tbody>\n",
              "</table>\n",
              "<p>81 rows × 1 columns</p>\n",
              "</div><br><label><b>dtype:</b> int64</label>"
            ]
          },
          "metadata": {},
          "execution_count": 46
        }
      ]
    },
    {
      "cell_type": "code",
      "source": [
        "data_test.isnull().sum()"
      ],
      "metadata": {
        "colab": {
          "base_uri": "https://localhost:8080/",
          "height": 458
        },
        "id": "Ufz4Algyyxdp",
        "outputId": "fe65f70a-d0f9-4638-c626-872ba4f26bd3"
      },
      "execution_count": null,
      "outputs": [
        {
          "output_type": "execute_result",
          "data": {
            "text/plain": [
              "Id                0\n",
              "MSSubClass        0\n",
              "MSZoning          0\n",
              "LotFrontage      23\n",
              "LotArea           0\n",
              "                 ..\n",
              "MoSold            0\n",
              "YrSold            0\n",
              "SaleType          0\n",
              "SaleCondition     0\n",
              "SalePrice         0\n",
              "Length: 81, dtype: int64"
            ],
            "text/html": [
              "<div>\n",
              "<style scoped>\n",
              "    .dataframe tbody tr th:only-of-type {\n",
              "        vertical-align: middle;\n",
              "    }\n",
              "\n",
              "    .dataframe tbody tr th {\n",
              "        vertical-align: top;\n",
              "    }\n",
              "\n",
              "    .dataframe thead th {\n",
              "        text-align: right;\n",
              "    }\n",
              "</style>\n",
              "<table border=\"1\" class=\"dataframe\">\n",
              "  <thead>\n",
              "    <tr style=\"text-align: right;\">\n",
              "      <th></th>\n",
              "      <th>0</th>\n",
              "    </tr>\n",
              "  </thead>\n",
              "  <tbody>\n",
              "    <tr>\n",
              "      <th>Id</th>\n",
              "      <td>0</td>\n",
              "    </tr>\n",
              "    <tr>\n",
              "      <th>MSSubClass</th>\n",
              "      <td>0</td>\n",
              "    </tr>\n",
              "    <tr>\n",
              "      <th>MSZoning</th>\n",
              "      <td>0</td>\n",
              "    </tr>\n",
              "    <tr>\n",
              "      <th>LotFrontage</th>\n",
              "      <td>23</td>\n",
              "    </tr>\n",
              "    <tr>\n",
              "      <th>LotArea</th>\n",
              "      <td>0</td>\n",
              "    </tr>\n",
              "    <tr>\n",
              "      <th>...</th>\n",
              "      <td>...</td>\n",
              "    </tr>\n",
              "    <tr>\n",
              "      <th>MoSold</th>\n",
              "      <td>0</td>\n",
              "    </tr>\n",
              "    <tr>\n",
              "      <th>YrSold</th>\n",
              "      <td>0</td>\n",
              "    </tr>\n",
              "    <tr>\n",
              "      <th>SaleType</th>\n",
              "      <td>0</td>\n",
              "    </tr>\n",
              "    <tr>\n",
              "      <th>SaleCondition</th>\n",
              "      <td>0</td>\n",
              "    </tr>\n",
              "    <tr>\n",
              "      <th>SalePrice</th>\n",
              "      <td>0</td>\n",
              "    </tr>\n",
              "  </tbody>\n",
              "</table>\n",
              "<p>81 rows × 1 columns</p>\n",
              "</div><br><label><b>dtype:</b> int64</label>"
            ]
          },
          "metadata": {},
          "execution_count": 47
        }
      ]
    },
    {
      "cell_type": "code",
      "source": [
        "#список всех колонок где есть нулевые ячейки (пропущенные значения)\n",
        "any_nan_list_train = data_train.columns[data_train.isnull().any()]\n",
        "any_nan_list_train\n",
        "#print(data.columns[data.isnull().any()])"
      ],
      "metadata": {
        "colab": {
          "base_uri": "https://localhost:8080/"
        },
        "id": "57rn11fEMy1d",
        "outputId": "390c8acd-f99d-4713-8a8a-d1e07a1ec11c"
      },
      "execution_count": null,
      "outputs": [
        {
          "output_type": "execute_result",
          "data": {
            "text/plain": [
              "Index(['LotFrontage', 'Alley', 'MasVnrType', 'MasVnrArea', 'BsmtQual',\n",
              "       'BsmtCond', 'BsmtExposure', 'BsmtFinType1', 'BsmtFinType2',\n",
              "       'Electrical', 'FireplaceQu', 'GarageType', 'GarageYrBlt',\n",
              "       'GarageFinish', 'GarageQual', 'GarageCond', 'PoolQC', 'Fence',\n",
              "       'MiscFeature'],\n",
              "      dtype='object')"
            ]
          },
          "metadata": {},
          "execution_count": 49
        }
      ]
    },
    {
      "cell_type": "code",
      "source": [
        "#список всех колонок где есть нулевые ячейки (пропущенные значения)\n",
        "any_nan_list_test = data_test.columns[data_test.isnull().any()]\n",
        "any_nan_list_test\n",
        "#print(data.columns[data.isnull().any()])"
      ],
      "metadata": {
        "colab": {
          "base_uri": "https://localhost:8080/"
        },
        "id": "P193I9gTy9hU",
        "outputId": "0a716834-988b-4b66-c3c2-ed734cbf6c31"
      },
      "execution_count": null,
      "outputs": [
        {
          "output_type": "execute_result",
          "data": {
            "text/plain": [
              "Index(['LotFrontage', 'Alley', 'MasVnrType', 'MasVnrArea', 'BsmtQual',\n",
              "       'BsmtCond', 'BsmtExposure', 'BsmtFinType1', 'BsmtFinType2',\n",
              "       'FireplaceQu', 'GarageType', 'GarageYrBlt', 'GarageFinish',\n",
              "       'GarageQual', 'GarageCond', 'PoolQC', 'Fence', 'MiscFeature'],\n",
              "      dtype='object')"
            ]
          },
          "metadata": {},
          "execution_count": 50
        }
      ]
    },
    {
      "cell_type": "code",
      "source": [
        "#посмотрим сколько пропущенных значений в каждом из этих колонок из списка any_nan_list\n",
        "data_train[any_nan_list_train].isnull().sum()\n"
      ],
      "metadata": {
        "colab": {
          "base_uri": "https://localhost:8080/",
          "height": 680
        },
        "id": "PnAkz26tNB80",
        "outputId": "2136fb02-e59e-4396-88ce-9e65d915873e"
      },
      "execution_count": null,
      "outputs": [
        {
          "output_type": "execute_result",
          "data": {
            "text/plain": [
              "LotFrontage      236\n",
              "Alley           1231\n",
              "MasVnrType       788\n",
              "MasVnrArea         7\n",
              "BsmtQual          31\n",
              "BsmtCond          31\n",
              "BsmtExposure      32\n",
              "BsmtFinType1      31\n",
              "BsmtFinType2      32\n",
              "Electrical         1\n",
              "FireplaceQu      621\n",
              "GarageType        78\n",
              "GarageYrBlt       78\n",
              "GarageFinish      78\n",
              "GarageQual        78\n",
              "GarageCond        78\n",
              "PoolQC          1307\n",
              "Fence           1068\n",
              "MiscFeature     1266\n",
              "dtype: int64"
            ],
            "text/html": [
              "<div>\n",
              "<style scoped>\n",
              "    .dataframe tbody tr th:only-of-type {\n",
              "        vertical-align: middle;\n",
              "    }\n",
              "\n",
              "    .dataframe tbody tr th {\n",
              "        vertical-align: top;\n",
              "    }\n",
              "\n",
              "    .dataframe thead th {\n",
              "        text-align: right;\n",
              "    }\n",
              "</style>\n",
              "<table border=\"1\" class=\"dataframe\">\n",
              "  <thead>\n",
              "    <tr style=\"text-align: right;\">\n",
              "      <th></th>\n",
              "      <th>0</th>\n",
              "    </tr>\n",
              "  </thead>\n",
              "  <tbody>\n",
              "    <tr>\n",
              "      <th>LotFrontage</th>\n",
              "      <td>236</td>\n",
              "    </tr>\n",
              "    <tr>\n",
              "      <th>Alley</th>\n",
              "      <td>1231</td>\n",
              "    </tr>\n",
              "    <tr>\n",
              "      <th>MasVnrType</th>\n",
              "      <td>788</td>\n",
              "    </tr>\n",
              "    <tr>\n",
              "      <th>MasVnrArea</th>\n",
              "      <td>7</td>\n",
              "    </tr>\n",
              "    <tr>\n",
              "      <th>BsmtQual</th>\n",
              "      <td>31</td>\n",
              "    </tr>\n",
              "    <tr>\n",
              "      <th>BsmtCond</th>\n",
              "      <td>31</td>\n",
              "    </tr>\n",
              "    <tr>\n",
              "      <th>BsmtExposure</th>\n",
              "      <td>32</td>\n",
              "    </tr>\n",
              "    <tr>\n",
              "      <th>BsmtFinType1</th>\n",
              "      <td>31</td>\n",
              "    </tr>\n",
              "    <tr>\n",
              "      <th>BsmtFinType2</th>\n",
              "      <td>32</td>\n",
              "    </tr>\n",
              "    <tr>\n",
              "      <th>Electrical</th>\n",
              "      <td>1</td>\n",
              "    </tr>\n",
              "    <tr>\n",
              "      <th>FireplaceQu</th>\n",
              "      <td>621</td>\n",
              "    </tr>\n",
              "    <tr>\n",
              "      <th>GarageType</th>\n",
              "      <td>78</td>\n",
              "    </tr>\n",
              "    <tr>\n",
              "      <th>GarageYrBlt</th>\n",
              "      <td>78</td>\n",
              "    </tr>\n",
              "    <tr>\n",
              "      <th>GarageFinish</th>\n",
              "      <td>78</td>\n",
              "    </tr>\n",
              "    <tr>\n",
              "      <th>GarageQual</th>\n",
              "      <td>78</td>\n",
              "    </tr>\n",
              "    <tr>\n",
              "      <th>GarageCond</th>\n",
              "      <td>78</td>\n",
              "    </tr>\n",
              "    <tr>\n",
              "      <th>PoolQC</th>\n",
              "      <td>1307</td>\n",
              "    </tr>\n",
              "    <tr>\n",
              "      <th>Fence</th>\n",
              "      <td>1068</td>\n",
              "    </tr>\n",
              "    <tr>\n",
              "      <th>MiscFeature</th>\n",
              "      <td>1266</td>\n",
              "    </tr>\n",
              "  </tbody>\n",
              "</table>\n",
              "</div><br><label><b>dtype:</b> int64</label>"
            ]
          },
          "metadata": {},
          "execution_count": 51
        }
      ]
    },
    {
      "cell_type": "code",
      "source": [
        "#посмотрим сколько пропущенных значений в каждом из этих колонок из списка any_nan_list\n",
        "data_test[any_nan_list_test].isnull().sum()"
      ],
      "metadata": {
        "colab": {
          "base_uri": "https://localhost:8080/",
          "height": 648
        },
        "id": "4AoJIbtYzVcT",
        "outputId": "f9750d3f-ce09-44f0-8070-5a6d14927e93"
      },
      "execution_count": null,
      "outputs": [
        {
          "output_type": "execute_result",
          "data": {
            "text/plain": [
              "LotFrontage      23\n",
              "Alley           138\n",
              "MasVnrType       84\n",
              "MasVnrArea        1\n",
              "BsmtQual          6\n",
              "BsmtCond          6\n",
              "BsmtExposure      6\n",
              "BsmtFinType1      6\n",
              "BsmtFinType2      6\n",
              "FireplaceQu      69\n",
              "GarageType        3\n",
              "GarageYrBlt       3\n",
              "GarageFinish      3\n",
              "GarageQual        3\n",
              "GarageCond        3\n",
              "PoolQC          146\n",
              "Fence           111\n",
              "MiscFeature     140\n",
              "dtype: int64"
            ],
            "text/html": [
              "<div>\n",
              "<style scoped>\n",
              "    .dataframe tbody tr th:only-of-type {\n",
              "        vertical-align: middle;\n",
              "    }\n",
              "\n",
              "    .dataframe tbody tr th {\n",
              "        vertical-align: top;\n",
              "    }\n",
              "\n",
              "    .dataframe thead th {\n",
              "        text-align: right;\n",
              "    }\n",
              "</style>\n",
              "<table border=\"1\" class=\"dataframe\">\n",
              "  <thead>\n",
              "    <tr style=\"text-align: right;\">\n",
              "      <th></th>\n",
              "      <th>0</th>\n",
              "    </tr>\n",
              "  </thead>\n",
              "  <tbody>\n",
              "    <tr>\n",
              "      <th>LotFrontage</th>\n",
              "      <td>23</td>\n",
              "    </tr>\n",
              "    <tr>\n",
              "      <th>Alley</th>\n",
              "      <td>138</td>\n",
              "    </tr>\n",
              "    <tr>\n",
              "      <th>MasVnrType</th>\n",
              "      <td>84</td>\n",
              "    </tr>\n",
              "    <tr>\n",
              "      <th>MasVnrArea</th>\n",
              "      <td>1</td>\n",
              "    </tr>\n",
              "    <tr>\n",
              "      <th>BsmtQual</th>\n",
              "      <td>6</td>\n",
              "    </tr>\n",
              "    <tr>\n",
              "      <th>BsmtCond</th>\n",
              "      <td>6</td>\n",
              "    </tr>\n",
              "    <tr>\n",
              "      <th>BsmtExposure</th>\n",
              "      <td>6</td>\n",
              "    </tr>\n",
              "    <tr>\n",
              "      <th>BsmtFinType1</th>\n",
              "      <td>6</td>\n",
              "    </tr>\n",
              "    <tr>\n",
              "      <th>BsmtFinType2</th>\n",
              "      <td>6</td>\n",
              "    </tr>\n",
              "    <tr>\n",
              "      <th>FireplaceQu</th>\n",
              "      <td>69</td>\n",
              "    </tr>\n",
              "    <tr>\n",
              "      <th>GarageType</th>\n",
              "      <td>3</td>\n",
              "    </tr>\n",
              "    <tr>\n",
              "      <th>GarageYrBlt</th>\n",
              "      <td>3</td>\n",
              "    </tr>\n",
              "    <tr>\n",
              "      <th>GarageFinish</th>\n",
              "      <td>3</td>\n",
              "    </tr>\n",
              "    <tr>\n",
              "      <th>GarageQual</th>\n",
              "      <td>3</td>\n",
              "    </tr>\n",
              "    <tr>\n",
              "      <th>GarageCond</th>\n",
              "      <td>3</td>\n",
              "    </tr>\n",
              "    <tr>\n",
              "      <th>PoolQC</th>\n",
              "      <td>146</td>\n",
              "    </tr>\n",
              "    <tr>\n",
              "      <th>Fence</th>\n",
              "      <td>111</td>\n",
              "    </tr>\n",
              "    <tr>\n",
              "      <th>MiscFeature</th>\n",
              "      <td>140</td>\n",
              "    </tr>\n",
              "  </tbody>\n",
              "</table>\n",
              "</div><br><label><b>dtype:</b> int64</label>"
            ]
          },
          "metadata": {},
          "execution_count": 52
        }
      ]
    },
    {
      "cell_type": "code",
      "source": [
        "df_train = data_train.drop(['Id'], axis=1)\n",
        "df_test = data_test.drop(['Id'], axis=1)\n"
      ],
      "metadata": {
        "id": "2MWdp4T9DBW2"
      },
      "execution_count": null,
      "outputs": []
    },
    {
      "cell_type": "markdown",
      "source": [
        "#GPT пишет что чтобы понять какие колонки можно просто удалить, а над каким поработать чтобы заполнить надо увидеть процент заполненности. если путых значений больше чем 40-50% то можно удалить\n",
        "# Рассчитаем процент пропущенных значений для каждой колонки из списка any_nan_list"
      ],
      "metadata": {
        "id": "waBodXtrklnj"
      }
    },
    {
      "cell_type": "code",
      "source": [
        "# Рассчитываем процент пропусков для каждого признака\n",
        "missing_data_train = df_train.isnull().mean() * 100\n",
        "missing_data_train = missing_data_train[missing_data_train > 0].sort_values(ascending=False)\n",
        "print(missing_data_train)\n"
      ],
      "metadata": {
        "colab": {
          "base_uri": "https://localhost:8080/"
        },
        "id": "hguFGlUvllOM",
        "outputId": "6d8c5a61-759f-4454-c634-1e96ba6fc7f1"
      },
      "execution_count": null,
      "outputs": [
        {
          "output_type": "stream",
          "name": "stdout",
          "text": [
            "LotFrontage     17.960426\n",
            "GarageType       5.936073\n",
            "GarageYrBlt      5.936073\n",
            "GarageFinish     5.936073\n",
            "GarageQual       5.936073\n",
            "GarageCond       5.936073\n",
            "BsmtExposure     2.435312\n",
            "BsmtFinType2     2.435312\n",
            "BsmtQual         2.359209\n",
            "BsmtCond         2.359209\n",
            "BsmtFinType1     2.359209\n",
            "MasVnrArea       0.532725\n",
            "Electrical       0.076104\n",
            "dtype: float64\n"
          ]
        }
      ]
    },
    {
      "cell_type": "code",
      "source": [
        "missing_data_test = df_test.isnull().mean() * 100\n",
        "missing_data_test = missing_data_test[missing_data_test > 0].sort_values(ascending=False)\n",
        "print(missing_data_test)\n"
      ],
      "metadata": {
        "colab": {
          "base_uri": "https://localhost:8080/"
        },
        "id": "wdnqF8Ww0LHo",
        "outputId": "c42ca4ca-926d-4ddd-b556-79ccf8f543df"
      },
      "execution_count": null,
      "outputs": [
        {
          "output_type": "stream",
          "name": "stdout",
          "text": [
            "LotFrontage     15.753425\n",
            "BsmtQual         4.109589\n",
            "BsmtCond         4.109589\n",
            "BsmtExposure     4.109589\n",
            "BsmtFinType1     4.109589\n",
            "BsmtFinType2     4.109589\n",
            "GarageType       2.054795\n",
            "GarageYrBlt      2.054795\n",
            "GarageFinish     2.054795\n",
            "GarageQual       2.054795\n",
            "GarageCond       2.054795\n",
            "MasVnrArea       0.684932\n",
            "dtype: float64\n"
          ]
        }
      ]
    },
    {
      "cell_type": "code",
      "source": [
        "# Удалим признаки с более чем 40% пропусков\n",
        "threshold = 0.4  # 40% порог\n",
        "columns_to_drop_train = missing_data_train[missing_data_train > threshold * 100].index.tolist()\n",
        "\n",
        "# Удаление колонок с большим количеством пропусков\n",
        "df_train = df_train.drop(columns=columns_to_drop_train)\n",
        "print(f'Удалены колонки: {columns_to_drop_train}')\n"
      ],
      "metadata": {
        "colab": {
          "base_uri": "https://localhost:8080/"
        },
        "id": "Dulx6B0CleBU",
        "outputId": "57d89577-03db-4780-9657-353a24faca8b"
      },
      "execution_count": null,
      "outputs": [
        {
          "output_type": "stream",
          "name": "stdout",
          "text": [
            "Удалены колонки: []\n"
          ]
        }
      ]
    },
    {
      "cell_type": "code",
      "source": [
        "columns_to_drop_test = missing_data_test[missing_data_test > threshold * 100].index.tolist()\n",
        "\n",
        "# Удаление колонок с большим количеством пропусков\n",
        "df_test = df_test.drop(columns=columns_to_drop_test)\n",
        "print(f'Удалены колонки: {columns_to_drop_test}')"
      ],
      "metadata": {
        "colab": {
          "base_uri": "https://localhost:8080/"
        },
        "id": "_4-rq84r08Pz",
        "outputId": "14e8a482-09d0-45fc-cbd9-e34ae30e44cf"
      },
      "execution_count": null,
      "outputs": [
        {
          "output_type": "stream",
          "name": "stdout",
          "text": [
            "Удалены колонки: []\n"
          ]
        }
      ]
    },
    {
      "cell_type": "code",
      "source": [
        "# Проверим наличие дубликатов\n",
        "duplicates = df_test.duplicated()\n",
        "\n",
        "# Считаем количество дубликатов\n",
        "num_duplicates = duplicates.sum()\n",
        "\n",
        "# Выводим количество дубликатов\n",
        "print(f\"Количество дубликатов: {num_duplicates}\")"
      ],
      "metadata": {
        "colab": {
          "base_uri": "https://localhost:8080/"
        },
        "id": "Qz1fgxlc0Ut_",
        "outputId": "db2c8164-0472-482d-9860-c81ee43e3db3"
      },
      "execution_count": null,
      "outputs": [
        {
          "output_type": "stream",
          "name": "stdout",
          "text": [
            "Количество дубликатов: 0\n"
          ]
        }
      ]
    },
    {
      "cell_type": "code",
      "source": [
        "# разделим на числовые и категориальные колонки\n",
        "numeric_columns = df.select_dtypes(include=[np.number]).columns\n",
        "print(numeric_columns)\n",
        "categorical_columns = df.select_dtypes(include=['object']).columns\n",
        "print(categorical_columns)"
      ],
      "metadata": {
        "colab": {
          "base_uri": "https://localhost:8080/"
        },
        "id": "D8Pv2oqNuzva",
        "outputId": "dbcf0a23-ad6b-420c-d3c4-29b08f605e27"
      },
      "execution_count": null,
      "outputs": [
        {
          "output_type": "stream",
          "name": "stdout",
          "text": [
            "Index(['LotFrontage', 'LotArea', 'Neighborhood', 'OverallQual', 'YearBuilt',\n",
            "       'YearRemodAdd', 'Exterior1st', 'Exterior2nd', 'MasVnrArea',\n",
            "       'BsmtFinSF1', 'BsmtUnfSF', 'TotalBsmtSF', '1stFlrSF', '2ndFlrSF',\n",
            "       'GrLivArea', 'BsmtFullBath', 'FullBath', 'HalfBath', 'BedroomAbvGr',\n",
            "       'KitchenAbvGr', 'TotRmsAbvGrd', 'Fireplaces', 'GarageYrBlt',\n",
            "       'GarageCars', 'GarageArea', 'WoodDeckSF', 'OpenPorchSF',\n",
            "       'EnclosedPorch', 'ScreenPorch', 'SalePrice'],\n",
            "      dtype='object')\n",
            "Index([], dtype='object')\n"
          ]
        }
      ]
    },
    {
      "cell_type": "markdown",
      "source": [
        "Проверим есть ли числовые данные среди категориальных, которые неправильно репрезентованы просто"
      ],
      "metadata": {
        "id": "_r2mzYQVz8Sw"
      }
    },
    {
      "cell_type": "code",
      "source": [
        "# Создаем пустой список для хранения колонок, которые нужно проверить\n",
        "non_numeric_in_categories = []\n",
        "\n",
        "for col in categorical_columns:\n",
        "    # Попробуем преобразовать колонку в числовой формат\n",
        "    numeric_conversion = pd.to_numeric(df_train[col], errors='coerce')\n",
        "\n",
        "    # Проверим, сколько значений стало NaN\n",
        "    num_nans = numeric_conversion.isnull().sum()\n",
        "\n",
        "    # Если NaN меньше общего количества строк, значит есть числовые значения\n",
        "    if num_nans < len(df_train):\n",
        "        non_numeric_in_categories.append(col)\n",
        "\n",
        "# Выводим колонки, которые содержат числовые значения\n",
        "print(\"Категориальные колонки с числовыми значениями:\", non_numeric_in_categories)\n"
      ],
      "metadata": {
        "colab": {
          "base_uri": "https://localhost:8080/"
        },
        "id": "GgEDsc7uz3dn",
        "outputId": "25b4e72f-07e0-4e1e-f577-3786951ebf9a"
      },
      "execution_count": null,
      "outputs": [
        {
          "output_type": "stream",
          "name": "stdout",
          "text": [
            "Категориальные колонки с числовыми значениями: []\n"
          ]
        }
      ]
    },
    {
      "cell_type": "markdown",
      "source": [
        "let's work on numeric columns first"
      ],
      "metadata": {
        "id": "EEHYrMuFwndz"
      }
    },
    {
      "cell_type": "code",
      "source": [
        "# Корреляционная матрица для числовых признаков\n",
        "corr_matrix = df_train[numeric_columns].corr()\n",
        "\n",
        "plt.figure(figsize=(10, 8))\n",
        "sns.heatmap(corr_matrix, annot=False, cmap=\"coolwarm\", linewidths=0.5)\n",
        "plt.title(\"Correlation Matrix for Numeric Features\")\n",
        "plt.show()"
      ],
      "metadata": {
        "colab": {
          "base_uri": "https://localhost:8080/",
          "height": 371
        },
        "id": "NAjmoxC0wJoL",
        "outputId": "d3bd08bd-3070-4baa-f332-952c0eb41a14"
      },
      "execution_count": null,
      "outputs": [
        {
          "output_type": "error",
          "ename": "ValueError",
          "evalue": "could not convert string to float: 'BrDale'",
          "traceback": [
            "\u001b[0;31m---------------------------------------------------------------------------\u001b[0m",
            "\u001b[0;31mValueError\u001b[0m                                Traceback (most recent call last)",
            "\u001b[0;32m<ipython-input-71-158c9c023cbe>\u001b[0m in \u001b[0;36m<cell line: 2>\u001b[0;34m()\u001b[0m\n\u001b[1;32m      1\u001b[0m \u001b[0;31m# Корреляционная матрица для числовых признаков\u001b[0m\u001b[0;34m\u001b[0m\u001b[0;34m\u001b[0m\u001b[0m\n\u001b[0;32m----> 2\u001b[0;31m \u001b[0mcorr_matrix\u001b[0m \u001b[0;34m=\u001b[0m \u001b[0mdf_train\u001b[0m\u001b[0;34m[\u001b[0m\u001b[0mnumeric_columns\u001b[0m\u001b[0;34m]\u001b[0m\u001b[0;34m.\u001b[0m\u001b[0mcorr\u001b[0m\u001b[0;34m(\u001b[0m\u001b[0;34m)\u001b[0m\u001b[0;34m\u001b[0m\u001b[0;34m\u001b[0m\u001b[0m\n\u001b[0m\u001b[1;32m      3\u001b[0m \u001b[0;34m\u001b[0m\u001b[0m\n\u001b[1;32m      4\u001b[0m \u001b[0mplt\u001b[0m\u001b[0;34m.\u001b[0m\u001b[0mfigure\u001b[0m\u001b[0;34m(\u001b[0m\u001b[0mfigsize\u001b[0m\u001b[0;34m=\u001b[0m\u001b[0;34m(\u001b[0m\u001b[0;36m10\u001b[0m\u001b[0;34m,\u001b[0m \u001b[0;36m8\u001b[0m\u001b[0;34m)\u001b[0m\u001b[0;34m)\u001b[0m\u001b[0;34m\u001b[0m\u001b[0;34m\u001b[0m\u001b[0m\n\u001b[1;32m      5\u001b[0m \u001b[0msns\u001b[0m\u001b[0;34m.\u001b[0m\u001b[0mheatmap\u001b[0m\u001b[0;34m(\u001b[0m\u001b[0mcorr_matrix\u001b[0m\u001b[0;34m,\u001b[0m \u001b[0mannot\u001b[0m\u001b[0;34m=\u001b[0m\u001b[0;32mFalse\u001b[0m\u001b[0;34m,\u001b[0m \u001b[0mcmap\u001b[0m\u001b[0;34m=\u001b[0m\u001b[0;34m\"coolwarm\"\u001b[0m\u001b[0;34m,\u001b[0m \u001b[0mlinewidths\u001b[0m\u001b[0;34m=\u001b[0m\u001b[0;36m0.5\u001b[0m\u001b[0;34m)\u001b[0m\u001b[0;34m\u001b[0m\u001b[0;34m\u001b[0m\u001b[0m\n",
            "\u001b[0;32m/usr/local/lib/python3.10/dist-packages/pandas/core/frame.py\u001b[0m in \u001b[0;36mcorr\u001b[0;34m(self, method, min_periods, numeric_only)\u001b[0m\n\u001b[1;32m  11047\u001b[0m         \u001b[0mcols\u001b[0m \u001b[0;34m=\u001b[0m \u001b[0mdata\u001b[0m\u001b[0;34m.\u001b[0m\u001b[0mcolumns\u001b[0m\u001b[0;34m\u001b[0m\u001b[0;34m\u001b[0m\u001b[0m\n\u001b[1;32m  11048\u001b[0m         \u001b[0midx\u001b[0m \u001b[0;34m=\u001b[0m \u001b[0mcols\u001b[0m\u001b[0;34m.\u001b[0m\u001b[0mcopy\u001b[0m\u001b[0;34m(\u001b[0m\u001b[0;34m)\u001b[0m\u001b[0;34m\u001b[0m\u001b[0;34m\u001b[0m\u001b[0m\n\u001b[0;32m> 11049\u001b[0;31m         \u001b[0mmat\u001b[0m \u001b[0;34m=\u001b[0m \u001b[0mdata\u001b[0m\u001b[0;34m.\u001b[0m\u001b[0mto_numpy\u001b[0m\u001b[0;34m(\u001b[0m\u001b[0mdtype\u001b[0m\u001b[0;34m=\u001b[0m\u001b[0mfloat\u001b[0m\u001b[0;34m,\u001b[0m \u001b[0mna_value\u001b[0m\u001b[0;34m=\u001b[0m\u001b[0mnp\u001b[0m\u001b[0;34m.\u001b[0m\u001b[0mnan\u001b[0m\u001b[0;34m,\u001b[0m \u001b[0mcopy\u001b[0m\u001b[0;34m=\u001b[0m\u001b[0;32mFalse\u001b[0m\u001b[0;34m)\u001b[0m\u001b[0;34m\u001b[0m\u001b[0;34m\u001b[0m\u001b[0m\n\u001b[0m\u001b[1;32m  11050\u001b[0m \u001b[0;34m\u001b[0m\u001b[0m\n\u001b[1;32m  11051\u001b[0m         \u001b[0;32mif\u001b[0m \u001b[0mmethod\u001b[0m \u001b[0;34m==\u001b[0m \u001b[0;34m\"pearson\"\u001b[0m\u001b[0;34m:\u001b[0m\u001b[0;34m\u001b[0m\u001b[0;34m\u001b[0m\u001b[0m\n",
            "\u001b[0;32m/usr/local/lib/python3.10/dist-packages/pandas/core/frame.py\u001b[0m in \u001b[0;36mto_numpy\u001b[0;34m(self, dtype, copy, na_value)\u001b[0m\n\u001b[1;32m   1991\u001b[0m         \u001b[0;32mif\u001b[0m \u001b[0mdtype\u001b[0m \u001b[0;32mis\u001b[0m \u001b[0;32mnot\u001b[0m \u001b[0;32mNone\u001b[0m\u001b[0;34m:\u001b[0m\u001b[0;34m\u001b[0m\u001b[0;34m\u001b[0m\u001b[0m\n\u001b[1;32m   1992\u001b[0m             \u001b[0mdtype\u001b[0m \u001b[0;34m=\u001b[0m \u001b[0mnp\u001b[0m\u001b[0;34m.\u001b[0m\u001b[0mdtype\u001b[0m\u001b[0;34m(\u001b[0m\u001b[0mdtype\u001b[0m\u001b[0;34m)\u001b[0m\u001b[0;34m\u001b[0m\u001b[0;34m\u001b[0m\u001b[0m\n\u001b[0;32m-> 1993\u001b[0;31m         \u001b[0mresult\u001b[0m \u001b[0;34m=\u001b[0m \u001b[0mself\u001b[0m\u001b[0;34m.\u001b[0m\u001b[0m_mgr\u001b[0m\u001b[0;34m.\u001b[0m\u001b[0mas_array\u001b[0m\u001b[0;34m(\u001b[0m\u001b[0mdtype\u001b[0m\u001b[0;34m=\u001b[0m\u001b[0mdtype\u001b[0m\u001b[0;34m,\u001b[0m \u001b[0mcopy\u001b[0m\u001b[0;34m=\u001b[0m\u001b[0mcopy\u001b[0m\u001b[0;34m,\u001b[0m \u001b[0mna_value\u001b[0m\u001b[0;34m=\u001b[0m\u001b[0mna_value\u001b[0m\u001b[0;34m)\u001b[0m\u001b[0;34m\u001b[0m\u001b[0;34m\u001b[0m\u001b[0m\n\u001b[0m\u001b[1;32m   1994\u001b[0m         \u001b[0;32mif\u001b[0m \u001b[0mresult\u001b[0m\u001b[0;34m.\u001b[0m\u001b[0mdtype\u001b[0m \u001b[0;32mis\u001b[0m \u001b[0;32mnot\u001b[0m \u001b[0mdtype\u001b[0m\u001b[0;34m:\u001b[0m\u001b[0;34m\u001b[0m\u001b[0;34m\u001b[0m\u001b[0m\n\u001b[1;32m   1995\u001b[0m             \u001b[0mresult\u001b[0m \u001b[0;34m=\u001b[0m \u001b[0mnp\u001b[0m\u001b[0;34m.\u001b[0m\u001b[0masarray\u001b[0m\u001b[0;34m(\u001b[0m\u001b[0mresult\u001b[0m\u001b[0;34m,\u001b[0m \u001b[0mdtype\u001b[0m\u001b[0;34m=\u001b[0m\u001b[0mdtype\u001b[0m\u001b[0;34m)\u001b[0m\u001b[0;34m\u001b[0m\u001b[0;34m\u001b[0m\u001b[0m\n",
            "\u001b[0;32m/usr/local/lib/python3.10/dist-packages/pandas/core/internals/managers.py\u001b[0m in \u001b[0;36mas_array\u001b[0;34m(self, dtype, copy, na_value)\u001b[0m\n\u001b[1;32m   1692\u001b[0m                 \u001b[0marr\u001b[0m\u001b[0;34m.\u001b[0m\u001b[0mflags\u001b[0m\u001b[0;34m.\u001b[0m\u001b[0mwriteable\u001b[0m \u001b[0;34m=\u001b[0m \u001b[0;32mFalse\u001b[0m\u001b[0;34m\u001b[0m\u001b[0;34m\u001b[0m\u001b[0m\n\u001b[1;32m   1693\u001b[0m         \u001b[0;32melse\u001b[0m\u001b[0;34m:\u001b[0m\u001b[0;34m\u001b[0m\u001b[0;34m\u001b[0m\u001b[0m\n\u001b[0;32m-> 1694\u001b[0;31m             \u001b[0marr\u001b[0m \u001b[0;34m=\u001b[0m \u001b[0mself\u001b[0m\u001b[0;34m.\u001b[0m\u001b[0m_interleave\u001b[0m\u001b[0;34m(\u001b[0m\u001b[0mdtype\u001b[0m\u001b[0;34m=\u001b[0m\u001b[0mdtype\u001b[0m\u001b[0;34m,\u001b[0m \u001b[0mna_value\u001b[0m\u001b[0;34m=\u001b[0m\u001b[0mna_value\u001b[0m\u001b[0;34m)\u001b[0m\u001b[0;34m\u001b[0m\u001b[0;34m\u001b[0m\u001b[0m\n\u001b[0m\u001b[1;32m   1695\u001b[0m             \u001b[0;31m# The underlying data was copied within _interleave, so no need\u001b[0m\u001b[0;34m\u001b[0m\u001b[0;34m\u001b[0m\u001b[0m\n\u001b[1;32m   1696\u001b[0m             \u001b[0;31m# to further copy if copy=True or setting na_value\u001b[0m\u001b[0;34m\u001b[0m\u001b[0;34m\u001b[0m\u001b[0m\n",
            "\u001b[0;32m/usr/local/lib/python3.10/dist-packages/pandas/core/internals/managers.py\u001b[0m in \u001b[0;36m_interleave\u001b[0;34m(self, dtype, na_value)\u001b[0m\n\u001b[1;32m   1751\u001b[0m             \u001b[0;32melse\u001b[0m\u001b[0;34m:\u001b[0m\u001b[0;34m\u001b[0m\u001b[0;34m\u001b[0m\u001b[0m\n\u001b[1;32m   1752\u001b[0m                 \u001b[0marr\u001b[0m \u001b[0;34m=\u001b[0m \u001b[0mblk\u001b[0m\u001b[0;34m.\u001b[0m\u001b[0mget_values\u001b[0m\u001b[0;34m(\u001b[0m\u001b[0mdtype\u001b[0m\u001b[0;34m)\u001b[0m\u001b[0;34m\u001b[0m\u001b[0;34m\u001b[0m\u001b[0m\n\u001b[0;32m-> 1753\u001b[0;31m             \u001b[0mresult\u001b[0m\u001b[0;34m[\u001b[0m\u001b[0mrl\u001b[0m\u001b[0;34m.\u001b[0m\u001b[0mindexer\u001b[0m\u001b[0;34m]\u001b[0m \u001b[0;34m=\u001b[0m \u001b[0marr\u001b[0m\u001b[0;34m\u001b[0m\u001b[0;34m\u001b[0m\u001b[0m\n\u001b[0m\u001b[1;32m   1754\u001b[0m             \u001b[0mitemmask\u001b[0m\u001b[0;34m[\u001b[0m\u001b[0mrl\u001b[0m\u001b[0;34m.\u001b[0m\u001b[0mindexer\u001b[0m\u001b[0;34m]\u001b[0m \u001b[0;34m=\u001b[0m \u001b[0;36m1\u001b[0m\u001b[0;34m\u001b[0m\u001b[0;34m\u001b[0m\u001b[0m\n\u001b[1;32m   1755\u001b[0m \u001b[0;34m\u001b[0m\u001b[0m\n",
            "\u001b[0;31mValueError\u001b[0m: could not convert string to float: 'BrDale'"
          ]
        }
      ]
    },
    {
      "cell_type": "code",
      "source": [
        "# Корреляция с таргет-переменной (например, 'target')\n",
        "target_corr = df_train[numeric_columns].corrwith(df_train['SalePrice'])\n",
        "\n",
        "# Отфильтруем признаки с низкой корреляцией (например, < 0.1)\n",
        "low_corr_features = target_corr[target_corr.abs() < 0.1].index.tolist()\n",
        "print(f'Признаки с низкой корреляцией: {low_corr_features}')\n",
        "\n",
        "# Удаление этих признаков\n",
        "df_train.drop(columns=low_corr_features, inplace=True)\n",
        "df_test.drop(columns=low_corr_features, inplace=True)\n"
      ],
      "metadata": {
        "id": "DGs4xzxrwr9h"
      },
      "execution_count": null,
      "outputs": []
    },
    {
      "cell_type": "code",
      "source": [
        "len(numeric_columns)\n"
      ],
      "metadata": {
        "id": "7kib0M8cy6Uv"
      },
      "execution_count": null,
      "outputs": []
    },
    {
      "cell_type": "code",
      "source": [
        "numeric_columns = df_train.select_dtypes(include=[np.number]).columns\n",
        "len(numeric_columns)"
      ],
      "metadata": {
        "colab": {
          "base_uri": "https://localhost:8080/"
        },
        "id": "9lFkDMRz-Bhu",
        "outputId": "6dce317c-e8c7-45ce-c765-f99f63ae51fe"
      },
      "execution_count": null,
      "outputs": [
        {
          "output_type": "execute_result",
          "data": {
            "text/plain": [
              "37"
            ]
          },
          "metadata": {},
          "execution_count": 72
        }
      ]
    },
    {
      "cell_type": "code",
      "source": [
        "import matplotlib.pyplot as plt\n",
        "\n",
        "# Построение гистограмм для каждой числовой колонки\n",
        "for column in numeric_columns:\n",
        "    plt.figure(figsize=(6, 4))\n",
        "    plt.hist(df[column], bins=30, color='blue', alpha=0.7)\n",
        "    plt.title(f'Гистограмма для {column}')\n",
        "    plt.xlabel(column)\n",
        "    plt.ylabel('Частота')\n",
        "    plt.show()\n"
      ],
      "metadata": {
        "id": "mqydbWPi-I68"
      },
      "execution_count": null,
      "outputs": []
    },
    {
      "cell_type": "code",
      "source": [
        "# Создаем список колонок из numeric_columns, в которых есть пропуски (NaN)\n",
        "numeric_columns_with_nan = [col for col in numeric_columns if data[col].isnull().any()]\n",
        "\n",
        "# Выводим список колонок с пропусками\n",
        "print(numeric_columns_with_nan)\n"
      ],
      "metadata": {
        "colab": {
          "base_uri": "https://localhost:8080/"
        },
        "id": "PMTlAdyqNt3u",
        "outputId": "0f778061-f3b8-4c7a-fb33-ca437915cd99"
      },
      "execution_count": null,
      "outputs": [
        {
          "output_type": "stream",
          "name": "stdout",
          "text": [
            "['LotFrontage', 'MasVnrArea', 'GarageYrBlt']\n"
          ]
        }
      ]
    },
    {
      "cell_type": "code",
      "source": [
        "# Создаем список колонок из numeric_columns, в которых есть пропуски (NaN)\n",
        "numeric_columns_with_nan_test = [col for col in numeric_columns if data_test[col].isnull().any()]\n",
        "\n",
        "# Выводим список колонок с пропусками\n",
        "print(numeric_columns_with_nan_test)"
      ],
      "metadata": {
        "colab": {
          "base_uri": "https://localhost:8080/"
        },
        "id": "XR-kj77W2Nrr",
        "outputId": "b2de2288-273a-4b71-92fc-3966d405baa7"
      },
      "execution_count": null,
      "outputs": [
        {
          "output_type": "stream",
          "name": "stdout",
          "text": [
            "['LotFrontage', 'MasVnrArea', 'GarageYrBlt']\n"
          ]
        }
      ]
    },
    {
      "cell_type": "code",
      "source": [
        "# Рассчитываем процент пропущенных значений для колонок из numeric_columns_with_nan\n",
        "missing_data_numeric = df_train[numeric_columns_with_nan].isnull().mean() * 100\n",
        "missing_data_numeric"
      ],
      "metadata": {
        "colab": {
          "base_uri": "https://localhost:8080/",
          "height": 178
        },
        "id": "a1f6p2qLOBPl",
        "outputId": "81cb1c20-f854-42e6-9946-138fbf26bb2f"
      },
      "execution_count": null,
      "outputs": [
        {
          "output_type": "execute_result",
          "data": {
            "text/plain": [
              "LotFrontage    17.960426\n",
              "MasVnrArea      0.532725\n",
              "GarageYrBlt     5.936073\n",
              "dtype: float64"
            ],
            "text/html": [
              "<div>\n",
              "<style scoped>\n",
              "    .dataframe tbody tr th:only-of-type {\n",
              "        vertical-align: middle;\n",
              "    }\n",
              "\n",
              "    .dataframe tbody tr th {\n",
              "        vertical-align: top;\n",
              "    }\n",
              "\n",
              "    .dataframe thead th {\n",
              "        text-align: right;\n",
              "    }\n",
              "</style>\n",
              "<table border=\"1\" class=\"dataframe\">\n",
              "  <thead>\n",
              "    <tr style=\"text-align: right;\">\n",
              "      <th></th>\n",
              "      <th>0</th>\n",
              "    </tr>\n",
              "  </thead>\n",
              "  <tbody>\n",
              "    <tr>\n",
              "      <th>LotFrontage</th>\n",
              "      <td>17.960426</td>\n",
              "    </tr>\n",
              "    <tr>\n",
              "      <th>MasVnrArea</th>\n",
              "      <td>0.532725</td>\n",
              "    </tr>\n",
              "    <tr>\n",
              "      <th>GarageYrBlt</th>\n",
              "      <td>5.936073</td>\n",
              "    </tr>\n",
              "  </tbody>\n",
              "</table>\n",
              "</div><br><label><b>dtype:</b> float64</label>"
            ]
          },
          "metadata": {},
          "execution_count": 75
        }
      ]
    },
    {
      "cell_type": "code",
      "source": [
        "#создадим список только из названия колонок missing_data_numeric\n",
        "missing_data_numeric = missing_data_numeric.index.tolist()\n",
        "missing_data_numeric\n"
      ],
      "metadata": {
        "colab": {
          "base_uri": "https://localhost:8080/"
        },
        "id": "G_jnaBhPMlWF",
        "outputId": "1ef41288-88f9-4c8b-dc29-8e63f72b78fe"
      },
      "execution_count": null,
      "outputs": [
        {
          "output_type": "execute_result",
          "data": {
            "text/plain": [
              "['LotFrontage', 'MasVnrArea', 'GarageYrBlt']"
            ]
          },
          "metadata": {},
          "execution_count": 76
        }
      ]
    },
    {
      "cell_type": "markdown",
      "source": [
        "чтобы понять чем заполнить Nan в этих трех колонках числовых missing_data_numeric рекомендуется посмотреть распределение. если нормальное - то заполнить медианой\n"
      ],
      "metadata": {
        "id": "xTEKqd1MMD0e"
      }
    },
    {
      "cell_type": "code",
      "source": [
        "import matplotlib.pyplot as plt\n",
        "import scipy.stats as stats\n",
        "\n",
        "# Построение гистограмм и Q-Q графиков для каждой колонки из missing_data_numeric\n",
        "for column in missing_data_numeric:\n",
        "    fig, axs = plt.subplots(1, 2, figsize=(12, 5))\n",
        "\n",
        "    # Гистограмма\n",
        "    axs[0].hist(df_train[column].dropna(), bins=30, color='skyblue', edgecolor='black')\n",
        "    axs[0].set_title(f'Гистограмма для {column}')\n",
        "\n",
        "    # Q-Q график\n",
        "    stats.probplot(df_train[column].dropna(), dist=\"norm\", plot=axs[1])\n",
        "    axs[1].set_title(f'Q-Q Plot для {column}')\n",
        "\n",
        "    plt.show()\n"
      ],
      "metadata": {
        "id": "7m8Yj2irPB6N",
        "colab": {
          "base_uri": "https://localhost:8080/",
          "height": 1000
        },
        "outputId": "5a53e25f-1867-4ff0-ff70-56387b2f3dc5"
      },
      "execution_count": null,
      "outputs": [
        {
          "output_type": "display_data",
          "data": {
            "text/plain": [
              "<Figure size 1200x500 with 2 Axes>"
            ],
            "image/png": "[encoded data removed]"
          },
          "metadata": {}
        },
        {
          "output_type": "display_data",
          "data": {
            "text/plain": [
              "<Figure size 1200x500 with 2 Axes>"
            ],
            "image/png": "[encoded data removed]"
          },
          "metadata": {}
        },
        {
          "output_type": "display_data",
          "data": {
            "text/plain": [
              "<Figure size 1200x500 with 2 Axes>"
            ],
            "image/png": "[encoded data removed]"
          },
          "metadata": {}
        }
      ]
    },
    {
      "cell_type": "code",
      "source": [
        "#Построение гистограмм и Q-Q графиков для каждой колонки из missing_data_numeric\n",
        "for column in missing_data_numeric:\n",
        "    fig, axs = plt.subplots(1, 2, figsize=(12, 5))\n",
        "\n",
        "    # Гистограмма\n",
        "    axs[0].hist(df_test[column].dropna(), bins=30, color='skyblue', edgecolor='black')\n",
        "    axs[0].set_title(f'Гистограмма для {column}')\n",
        "\n",
        "    # Q-Q график\n",
        "    stats.probplot(df_test[column].dropna(), dist=\"norm\", plot=axs[1])\n",
        "    axs[1].set_title(f'Q-Q Plot для {column}')\n",
        "\n",
        "    plt.show()"
      ],
      "metadata": {
        "colab": {
          "base_uri": "https://localhost:8080/",
          "height": 1000
        },
        "id": "CMhK8cLb3-Cq",
        "outputId": "8b1c031c-3f82-46e1-e1a8-385aaa1bab20"
      },
      "execution_count": null,
      "outputs": [
        {
          "output_type": "display_data",
          "data": {
            "text/plain": [
              "<Figure size 1200x500 with 2 Axes>"
            ],
            "image/png": "[encoded data removed]"
          },
          "metadata": {}
        },
        {
          "output_type": "display_data",
          "data": {
            "text/plain": [
              "<Figure size 1200x500 with 2 Axes>"
            ],
            "image/png": "[encoded data removed]"
          },
          "metadata": {}
        },
        {
          "output_type": "display_data",
          "data": {
            "text/plain": [
              "<Figure size 1200x500 with 2 Axes>"
            ],
            "image/png": "[encoded data removed]"
          },
          "metadata": {}
        }
      ]
    },
    {
      "cell_type": "markdown",
      "source": [
        "Для LotFrontage можно среднее значение, а для GarageYrBlt andMasVnrArea - mediana"
      ],
      "metadata": {
        "id": "MUJE9lJ3WTa0"
      }
    },
    {
      "cell_type": "code",
      "source": [
        "# Заполнение пропущенных значений в LotFrontage средним значением\n",
        "df_train['LotFrontage'] = df_train['LotFrontage'].fillna(df_train['LotFrontage'].mean())\n",
        "\n",
        "# Заполнение пропущенных значений в GarageYrBlt медианой\n",
        "df_train['GarageYrBlt'] = df_train['GarageYrBlt'].fillna(df_train['GarageYrBlt'].median())\n",
        "\n",
        "# Заполнение пропущенных значений в MasVnrArea медианой\n",
        "df_train['MasVnrArea'] = df_train['MasVnrArea'].fillna(df_train['MasVnrArea'].median())\n"
      ],
      "metadata": {
        "id": "MUu3oz_yW2HL"
      },
      "execution_count": null,
      "outputs": []
    },
    {
      "cell_type": "code",
      "source": [
        "df_test['LotFrontage'] = df_test['LotFrontage'].fillna(df_test['LotFrontage'].mean())\n",
        "\n",
        "# Заполнение пропущенных значений в GarageYrBlt медианой\n",
        "df_test['GarageYrBlt'] = df_test['GarageYrBlt'].fillna(df_test['GarageYrBlt'].median())\n",
        "\n",
        "# Заполнение пропущенных значений в MasVnrArea медианой\n",
        "df_test['MasVnrArea'] = df_test['MasVnrArea'].fillna(df_test['MasVnrArea'].median())"
      ],
      "metadata": {
        "id": "-OoZU66E4Wc3"
      },
      "execution_count": null,
      "outputs": []
    },
    {
      "cell_type": "markdown",
      "source": [
        "перепроверим Наны в числовых колонках"
      ],
      "metadata": {
        "id": "dQejvSxOX-bG"
      }
    },
    {
      "cell_type": "code",
      "source": [
        "# Проверка на наличие пропусков в числовых колонках\n",
        "missing_numeric = df_test.select_dtypes(include=['number']).isnull().sum()\n",
        "missing_numeric = missing_numeric[missing_numeric > 0]\n",
        "\n",
        "# Выводим результат\n",
        "if missing_numeric.empty:\n",
        "    print(\"Нет пропусков в числовых колонках.\")\n",
        "else:\n",
        "    print(\"Есть пропуски в следующих числовых колонках:\")\n",
        "    print(missing_numeric)\n"
      ],
      "metadata": {
        "colab": {
          "base_uri": "https://localhost:8080/"
        },
        "id": "7Yx71lMvX9Wr",
        "outputId": "3a0cb6cb-76eb-4b19-de16-3c8ef8d8a75f"
      },
      "execution_count": null,
      "outputs": [
        {
          "output_type": "stream",
          "name": "stdout",
          "text": [
            "Нет пропусков в числовых колонках.\n"
          ]
        }
      ]
    },
    {
      "cell_type": "code",
      "source": [],
      "metadata": {
        "id": "6NnQT9IKYFLz"
      },
      "execution_count": null,
      "outputs": []
    },
    {
      "cell_type": "markdown",
      "source": [
        "let;s work with categorical columns now:"
      ],
      "metadata": {
        "id": "Z8s-gI_wYWei"
      }
    },
    {
      "cell_type": "code",
      "source": [
        "# Проверка на пропуски в категориальных колонках\n",
        "missing_categorical = df_train.select_dtypes(include=['object']).isnull().sum()\n",
        "missing_categorical = missing_categorical[missing_categorical > 0]\n",
        "\n",
        "if missing_categorical.empty:\n",
        "    print(\"Нет пропусков в категориальных колонках.\")\n",
        "else:\n",
        "    print(\"Есть пропуски в следующих категориальных колонках:\")\n",
        "    print(missing_categorical)\n"
      ],
      "metadata": {
        "id": "YE6pFUezYbXL",
        "outputId": "20448952-a3de-43f2-c20d-e278ff13558b",
        "colab": {
          "base_uri": "https://localhost:8080/"
        }
      },
      "execution_count": null,
      "outputs": [
        {
          "output_type": "stream",
          "name": "stdout",
          "text": [
            "Есть пропуски в следующих категориальных колонках:\n",
            "BsmtQual        31\n",
            "BsmtCond        31\n",
            "BsmtExposure    32\n",
            "BsmtFinType1    31\n",
            "BsmtFinType2    32\n",
            "Electrical       1\n",
            "GarageType      78\n",
            "GarageFinish    78\n",
            "GarageQual      78\n",
            "GarageCond      78\n",
            "dtype: int64\n"
          ]
        }
      ]
    },
    {
      "cell_type": "code",
      "source": [
        "#let's see unique values of the column \"ELectrical\"\n",
        "\n",
        "df_train['Electrical'].unique()"
      ],
      "metadata": {
        "colab": {
          "base_uri": "https://localhost:8080/"
        },
        "id": "4Rsj62MA0t1p",
        "outputId": "cd6c42aa-8e5c-4c99-b0c1-80f137796855"
      },
      "execution_count": null,
      "outputs": [
        {
          "output_type": "execute_result",
          "data": {
            "text/plain": [
              "array(['SBrkr', 'FuseA', 'FuseF', 'FuseP', nan, 'Mix'], dtype=object)"
            ]
          },
          "metadata": {},
          "execution_count": 87
        }
      ]
    },
    {
      "cell_type": "code",
      "source": [
        "df_test['Electrical'].unique()"
      ],
      "metadata": {
        "colab": {
          "base_uri": "https://localhost:8080/"
        },
        "id": "e3oM7EV_5KiF",
        "outputId": "51b83f95-9cdf-4215-8903-f81b6ea66036"
      },
      "execution_count": null,
      "outputs": [
        {
          "output_type": "execute_result",
          "data": {
            "text/plain": [
              "array(['SBrkr', 'FuseA', 'FuseF'], dtype=object)"
            ]
          },
          "metadata": {},
          "execution_count": 86
        }
      ]
    },
    {
      "cell_type": "code",
      "source": [
        "df_train['GarageType'].unique()"
      ],
      "metadata": {
        "colab": {
          "base_uri": "https://localhost:8080/"
        },
        "id": "1NYwaHo9091y",
        "outputId": "0c066e67-d95d-4afc-ad63-11ff40d28087"
      },
      "execution_count": null,
      "outputs": [
        {
          "output_type": "execute_result",
          "data": {
            "text/plain": [
              "array(['Detchd', 'BuiltIn', 'Attchd', nan, 'Basment', 'CarPort', '2Types'],\n",
              "      dtype=object)"
            ]
          },
          "metadata": {},
          "execution_count": 84
        }
      ]
    },
    {
      "cell_type": "code",
      "source": [
        "df_test['GarageType'].unique()"
      ],
      "metadata": {
        "colab": {
          "base_uri": "https://localhost:8080/"
        },
        "id": "jYXtb-NA5DAm",
        "outputId": "36d31fce-8b38-4ced-d7cf-381ce0230d89"
      },
      "execution_count": null,
      "outputs": [
        {
          "output_type": "execute_result",
          "data": {
            "text/plain": [
              "array(['BuiltIn', 'Detchd', 'Attchd', nan, 'Basment'], dtype=object)"
            ]
          },
          "metadata": {},
          "execution_count": 85
        }
      ]
    },
    {
      "cell_type": "code",
      "source": [
        "#let's fill nan value of the column 'Electrical' by mode:\n",
        "df_train['Electrical'].fillna(df_train['Electrical'].mode()[0], inplace=True)\n",
        "df_test['Electrical'].fillna(df_test['Electrical'].mode()[0], inplace=True)"
      ],
      "metadata": {
        "id": "IExMq5Ja1hu5"
      },
      "execution_count": null,
      "outputs": []
    },
    {
      "cell_type": "markdown",
      "source": [
        "в колонках про гараж и подвал заполним пропуски значением None так как скорее всего это означает отсутствие"
      ],
      "metadata": {
        "id": "DnVqXAoQ3DU6"
      }
    },
    {
      "cell_type": "code",
      "source": [
        "# Колонки, где отсутствие объекта указывается значением \"None\"\n",
        "cols_2fil_with_None = [\n",
        "    'BsmtQual', 'BsmtCond', 'BsmtExposure',\n",
        "    'BsmtFinType1', 'BsmtFinType2',\n",
        "    'GarageType', 'GarageFinish', 'GarageQual', 'GarageCond'\n",
        "]\n",
        "\n",
        "# Заполняем пропуски значением \"None\" в указанных колонках\n",
        "df_train[cols_2fil_with_None] = df_train[cols_2fil_with_None].fillna(\"None\")\n",
        "df_test[cols_2fil_with_None] = df_test[cols_2fil_with_None].fillna(\"None\")"
      ],
      "metadata": {
        "id": "oPyKV6eZ3ubY"
      },
      "execution_count": null,
      "outputs": []
    },
    {
      "cell_type": "markdown",
      "source": [
        "Еще раз проверим все пропуски в категориальных колонках"
      ],
      "metadata": {
        "id": "vo6Do7Su4Am4"
      }
    },
    {
      "cell_type": "code",
      "source": [
        "# Проверка на пропуски в категориальных колонках\n",
        "missing_categorical = df_train.select_dtypes(include=['object']).isnull().sum()\n",
        "missing_categorical = missing_categorical[missing_categorical > 0]\n",
        "\n",
        "if missing_categorical.empty:\n",
        "    print(\"Нет пропусков в категориальных колонках.\")\n",
        "else:\n",
        "    print(\"Есть пропуски в следующих категориальных колонках:\")\n",
        "    print(missing_categorical)"
      ],
      "metadata": {
        "colab": {
          "base_uri": "https://localhost:8080/"
        },
        "id": "Di0r6BxA4ETA",
        "outputId": "c4e68d1d-ed1b-41e3-aed7-bbd0fcc1db19"
      },
      "execution_count": null,
      "outputs": [
        {
          "output_type": "stream",
          "name": "stdout",
          "text": [
            "Нет пропусков в категориальных колонках.\n"
          ]
        }
      ]
    },
    {
      "cell_type": "code",
      "source": [
        "missing_categorical_test = df_test.select_dtypes(include=['object']).isnull().sum()\n",
        "missing_categorical_test = missing_categorical_test[missing_categorical_test > 0]\n",
        "\n",
        "if missing_categorical_test.empty:\n",
        "    print(\"Нет пропусков в категориальных колонках.\")\n",
        "else:\n",
        "    print(\"Есть пропуски в следующих категориальных колонках:\")\n",
        "    print(missing_categorical_test)"
      ],
      "metadata": {
        "colab": {
          "base_uri": "https://localhost:8080/"
        },
        "id": "22pLEKZZ8GAV",
        "outputId": "e7a49a58-78b9-4552-a341-e4a2b4bad588"
      },
      "execution_count": null,
      "outputs": [
        {
          "output_type": "stream",
          "name": "stdout",
          "text": [
            "Нет пропусков в категориальных колонках.\n"
          ]
        }
      ]
    },
    {
      "cell_type": "markdown",
      "source": [
        "проверим пропуски во всех колонказ датафрейма df"
      ],
      "metadata": {
        "id": "X-pnGRb34Gzo"
      }
    },
    {
      "cell_type": "code",
      "source": [
        "# Проверка на наличие пропусков в DataFrame\n",
        "missing_columns = df_test.columns[df_test.isnull().any()]\n",
        "\n",
        "if len(missing_columns) > 0:\n",
        "    print(\"Столбцы с пропусками:\", missing_columns.tolist())\n",
        "else:\n",
        "    print(\"Все ок, пропусков нет.\")\n"
      ],
      "metadata": {
        "colab": {
          "base_uri": "https://localhost:8080/"
        },
        "id": "vWXXgo1k4KNg",
        "outputId": "0df0bd4c-f38d-469a-f174-6e8aa1657b1b"
      },
      "execution_count": null,
      "outputs": [
        {
          "output_type": "stream",
          "name": "stdout",
          "text": [
            "Все ок, пропусков нет.\n"
          ]
        }
      ]
    },
    {
      "cell_type": "markdown",
      "source": [
        "Разделим категории на две группы:\n",
        "\n",
        "Категории с небольшим количеством уникальных значений (для One-Hot Encoding).\n",
        "Категории с большим количеством уникальных значений или порядковыми данными (для Label Encoding или других методов)."
      ],
      "metadata": {
        "id": "RowaHFiR-3KK"
      }
    },
    {
      "cell_type": "code",
      "source": [
        "# Определение количества уникальных значений для каждой категориальной колонки\n",
        "unique_values = {col: df_train[col].nunique() for col in df_train.select_dtypes(include=['object']).columns}\n",
        "print(\"Количество уникальных значений в категориальных колонках:\")\n",
        "for col, count in unique_values.items():\n",
        "    print(f\"{col}: {count}\")\n"
      ],
      "metadata": {
        "colab": {
          "base_uri": "https://localhost:8080/"
        },
        "id": "RsmsVaHz-31p",
        "outputId": "cb025a83-d6be-4fd3-b055-0675926a539e"
      },
      "execution_count": null,
      "outputs": [
        {
          "output_type": "stream",
          "name": "stdout",
          "text": [
            "Количество уникальных значений в категориальных колонках:\n",
            "Exterior2nd: 16\n"
          ]
        }
      ]
    },
    {
      "cell_type": "markdown",
      "source": [
        "Шаг 2: Разделение колонок для кодирования\n",
        "Предположим:\n",
        "\n",
        "Если колонка имеет менее 10 уникальных значений, она будет закодирована с помощью One-Hot Encoding.\n",
        "Если колонка имеет 10 и более уникальных значений, будет использован Label Encoding."
      ],
      "metadata": {
        "id": "hATmTlPd_OfS"
      }
    },
    {
      "cell_type": "code",
      "source": [
        "# Разделение колонок по количеству уникальных значений\n",
        "one_hot_columns = [col for col, count in unique_values.items() if count < 10]\n",
        "label_encode_columns = [col for col, count in unique_values.items() if count >= 10]\n",
        "\n",
        "print(\"Колонки для One-Hot Encoding:\", one_hot_columns)\n",
        "print(\"Колонки для Label Encoding:\", label_encode_columns)\n"
      ],
      "metadata": {
        "colab": {
          "base_uri": "https://localhost:8080/"
        },
        "id": "pk7-UGqc_PYi",
        "outputId": "3ac7d688-c41b-45a6-f7df-0626937d01e6"
      },
      "execution_count": null,
      "outputs": [
        {
          "output_type": "stream",
          "name": "stdout",
          "text": [
            "Колонки для One-Hot Encoding: ['MSZoning', 'Street', 'LotShape', 'LandContour', 'Utilities', 'LotConfig', 'LandSlope', 'Condition1', 'Condition2', 'BldgType', 'HouseStyle', 'RoofStyle', 'RoofMatl', 'ExterQual', 'ExterCond', 'Foundation', 'BsmtQual', 'BsmtCond', 'BsmtExposure', 'BsmtFinType1', 'BsmtFinType2', 'Heating', 'HeatingQC', 'CentralAir', 'Electrical', 'KitchenQual', 'Functional', 'GarageType', 'GarageFinish', 'GarageQual', 'GarageCond', 'PavedDrive', 'SaleType', 'SaleCondition']\n",
            "Колонки для Label Encoding: ['Neighborhood', 'Exterior1st', 'Exterior2nd']\n"
          ]
        }
      ]
    },
    {
      "cell_type": "markdown",
      "source": [
        "применим one hot encoder к колонкам из списка one_hot_columns"
      ],
      "metadata": {
        "id": "EM0xaNW6CXIq"
      }
    },
    {
      "cell_type": "code",
      "source": [
        "for col in label_encode_columns:\n",
        "    train_labels = set(df_train[col].unique())\n",
        "    test_labels = set(df_test[col].unique())\n",
        "    missing_labels = test_labels - train_labels\n",
        "    if missing_labels:\n",
        "        print(f\"Column {col} has unseen labels in test set: {missing_labels}\")\n"
      ],
      "metadata": {
        "colab": {
          "base_uri": "https://localhost:8080/"
        },
        "id": "KoaAnS-5-ad9",
        "outputId": "e7553745-310b-46a5-ecf1-7de71efee221"
      },
      "execution_count": null,
      "outputs": [
        {
          "output_type": "stream",
          "name": "stdout",
          "text": [
            "Column Exterior1st has unseen labels in test set: {'MetalSd', 'Wd Sdng', 'CemntBd', 'BrkFace', 'Plywood', 'Stucco', 'WdShing', 'HdBoard', 'AsphShn', 'VinylSd', 'BrkComm'}\n"
          ]
        }
      ]
    },
    {
      "cell_type": "code",
      "source": [
        "all_categories = set(df_train[col].unique()).union(set(df_test[col].unique()))\n",
        "df_train[col] = pd.Categorical(df_train[col], categories=all_categories).codes\n",
        "df_test[col] = pd.Categorical(df_test[col], categories=all_categories).codes\n"
      ],
      "metadata": {
        "id": "w-V1tHBt-q7H"
      },
      "execution_count": null,
      "outputs": []
    },
    {
      "cell_type": "code",
      "source": [
        "from sklearn.preprocessing import OneHotEncoder\n",
        "encoder = OneHotEncoder(handle_unknown='ignore')\n",
        "df_train_encoded = encoder.fit_transform(df_train[label_encode_columns])\n",
        "df_test_encoded = encoder.transform(df_test[label_encode_columns])\n"
      ],
      "metadata": {
        "id": "xab7bmUpAEXB"
      },
      "execution_count": null,
      "outputs": []
    },
    {
      "cell_type": "code",
      "source": [
        "#let's list all categories from both datasets: df_train and df_test separately to see difference:\n",
        "\n",
        "train_categories = set(df_train[col].unique())\n",
        "test_categories = set(df_test[col].unique())\n",
        "print(\"Categories in df_train:\", train_categories)\n",
        "print(\"Categories in df_test:\", test_categories)"
      ],
      "metadata": {
        "colab": {
          "base_uri": "https://localhost:8080/"
        },
        "id": "RESwA7cnF-0q",
        "outputId": "fb736e56-d40b-4201-aee3-ac972a3df0b0"
      },
      "execution_count": null,
      "outputs": [
        {
          "output_type": "stream",
          "name": "stdout",
          "text": [
            "Categories in df_train: {0, 1, 2, 3, 4, 5, 6, 7, 8, 9, 10, 11, 12, 13, 14, 15}\n",
            "Categories in df_test: {0, 1, 4, 7, 8, 9, 10, 11, 12, 13, 14, 15}\n"
          ]
        }
      ]
    },
    {
      "cell_type": "code",
      "source": [
        "from sklearn.preprocessing import LabelEncoder\n",
        "\n",
        "# Combine unique categories from both train and test\n",
        "all_categories = pd.concat([df_train, df_test])[label_encode_columns].stack().unique()\n",
        "\n",
        "# Initialize and fit the LabelEncoder on all categories\n",
        "label_encoder = LabelEncoder()\n",
        "label_encoder.fit(all_categories)\n",
        "\n",
        "# Transform train and test sets\n",
        "for col in label_encode_columns:\n",
        "    df_train[col] = label_encoder.transform(df_train[col])\n",
        "    df_test[col] = label_encoder.transform(df_test[col])\n"
      ],
      "metadata": {
        "colab": {
          "base_uri": "https://localhost:8080/",
          "height": 426
        },
        "id": "F3p0qiEUE5KB",
        "outputId": "6fb00c00-dad2-41c7-e6c8-66019e72d25e"
      },
      "execution_count": null,
      "outputs": [
        {
          "output_type": "error",
          "ename": "TypeError",
          "evalue": "Encoders require their input argument must be uniformly strings or numbers. Got ['int', 'str']",
          "traceback": [
            "\u001b[0;31m---------------------------------------------------------------------------\u001b[0m",
            "\u001b[0;31mTypeError\u001b[0m                                 Traceback (most recent call last)",
            "\u001b[0;32m/usr/local/lib/python3.10/dist-packages/sklearn/utils/_encode.py\u001b[0m in \u001b[0;36m_unique_python\u001b[0;34m(values, return_inverse, return_counts)\u001b[0m\n\u001b[1;32m    173\u001b[0m \u001b[0;34m\u001b[0m\u001b[0m\n\u001b[0;32m--> 174\u001b[0;31m         \u001b[0muniques\u001b[0m \u001b[0;34m=\u001b[0m \u001b[0msorted\u001b[0m\u001b[0;34m(\u001b[0m\u001b[0muniques_set\u001b[0m\u001b[0;34m)\u001b[0m\u001b[0;34m\u001b[0m\u001b[0;34m\u001b[0m\u001b[0m\n\u001b[0m\u001b[1;32m    175\u001b[0m         \u001b[0muniques\u001b[0m\u001b[0;34m.\u001b[0m\u001b[0mextend\u001b[0m\u001b[0;34m(\u001b[0m\u001b[0mmissing_values\u001b[0m\u001b[0;34m.\u001b[0m\u001b[0mto_list\u001b[0m\u001b[0;34m(\u001b[0m\u001b[0;34m)\u001b[0m\u001b[0;34m)\u001b[0m\u001b[0;34m\u001b[0m\u001b[0;34m\u001b[0m\u001b[0m\n",
            "\u001b[0;31mTypeError\u001b[0m: '<' not supported between instances of 'str' and 'int'",
            "\nDuring handling of the above exception, another exception occurred:\n",
            "\u001b[0;31mTypeError\u001b[0m                                 Traceback (most recent call last)",
            "\u001b[0;32m<ipython-input-110-9fe3748f4916>\u001b[0m in \u001b[0;36m<cell line: 8>\u001b[0;34m()\u001b[0m\n\u001b[1;32m      6\u001b[0m \u001b[0;31m# Initialize and fit the LabelEncoder on all categories\u001b[0m\u001b[0;34m\u001b[0m\u001b[0;34m\u001b[0m\u001b[0m\n\u001b[1;32m      7\u001b[0m \u001b[0mlabel_encoder\u001b[0m \u001b[0;34m=\u001b[0m \u001b[0mLabelEncoder\u001b[0m\u001b[0;34m(\u001b[0m\u001b[0;34m)\u001b[0m\u001b[0;34m\u001b[0m\u001b[0;34m\u001b[0m\u001b[0m\n\u001b[0;32m----> 8\u001b[0;31m \u001b[0mlabel_encoder\u001b[0m\u001b[0;34m.\u001b[0m\u001b[0mfit\u001b[0m\u001b[0;34m(\u001b[0m\u001b[0mall_categories\u001b[0m\u001b[0;34m)\u001b[0m\u001b[0;34m\u001b[0m\u001b[0;34m\u001b[0m\u001b[0m\n\u001b[0m\u001b[1;32m      9\u001b[0m \u001b[0;34m\u001b[0m\u001b[0m\n\u001b[1;32m     10\u001b[0m \u001b[0;31m# Transform train and test sets\u001b[0m\u001b[0;34m\u001b[0m\u001b[0;34m\u001b[0m\u001b[0m\n",
            "\u001b[0;32m/usr/local/lib/python3.10/dist-packages/sklearn/preprocessing/_label.py\u001b[0m in \u001b[0;36mfit\u001b[0;34m(self, y)\u001b[0m\n\u001b[1;32m     96\u001b[0m         \"\"\"\n\u001b[1;32m     97\u001b[0m         \u001b[0my\u001b[0m \u001b[0;34m=\u001b[0m \u001b[0mcolumn_or_1d\u001b[0m\u001b[0;34m(\u001b[0m\u001b[0my\u001b[0m\u001b[0;34m,\u001b[0m \u001b[0mwarn\u001b[0m\u001b[0;34m=\u001b[0m\u001b[0;32mTrue\u001b[0m\u001b[0;34m)\u001b[0m\u001b[0;34m\u001b[0m\u001b[0;34m\u001b[0m\u001b[0m\n\u001b[0;32m---> 98\u001b[0;31m         \u001b[0mself\u001b[0m\u001b[0;34m.\u001b[0m\u001b[0mclasses_\u001b[0m \u001b[0;34m=\u001b[0m \u001b[0m_unique\u001b[0m\u001b[0;34m(\u001b[0m\u001b[0my\u001b[0m\u001b[0;34m)\u001b[0m\u001b[0;34m\u001b[0m\u001b[0;34m\u001b[0m\u001b[0m\n\u001b[0m\u001b[1;32m     99\u001b[0m         \u001b[0;32mreturn\u001b[0m \u001b[0mself\u001b[0m\u001b[0;34m\u001b[0m\u001b[0;34m\u001b[0m\u001b[0m\n\u001b[1;32m    100\u001b[0m \u001b[0;34m\u001b[0m\u001b[0m\n",
            "\u001b[0;32m/usr/local/lib/python3.10/dist-packages/sklearn/utils/_encode.py\u001b[0m in \u001b[0;36m_unique\u001b[0;34m(values, return_inverse, return_counts)\u001b[0m\n\u001b[1;32m     40\u001b[0m     \"\"\"\n\u001b[1;32m     41\u001b[0m     \u001b[0;32mif\u001b[0m \u001b[0mvalues\u001b[0m\u001b[0;34m.\u001b[0m\u001b[0mdtype\u001b[0m \u001b[0;34m==\u001b[0m \u001b[0mobject\u001b[0m\u001b[0;34m:\u001b[0m\u001b[0;34m\u001b[0m\u001b[0;34m\u001b[0m\u001b[0m\n\u001b[0;32m---> 42\u001b[0;31m         return _unique_python(\n\u001b[0m\u001b[1;32m     43\u001b[0m             \u001b[0mvalues\u001b[0m\u001b[0;34m,\u001b[0m \u001b[0mreturn_inverse\u001b[0m\u001b[0;34m=\u001b[0m\u001b[0mreturn_inverse\u001b[0m\u001b[0;34m,\u001b[0m \u001b[0mreturn_counts\u001b[0m\u001b[0;34m=\u001b[0m\u001b[0mreturn_counts\u001b[0m\u001b[0;34m\u001b[0m\u001b[0;34m\u001b[0m\u001b[0m\n\u001b[1;32m     44\u001b[0m         )\n",
            "\u001b[0;32m/usr/local/lib/python3.10/dist-packages/sklearn/utils/_encode.py\u001b[0m in \u001b[0;36m_unique_python\u001b[0;34m(values, return_inverse, return_counts)\u001b[0m\n\u001b[1;32m    177\u001b[0m     \u001b[0;32mexcept\u001b[0m \u001b[0mTypeError\u001b[0m\u001b[0;34m:\u001b[0m\u001b[0;34m\u001b[0m\u001b[0;34m\u001b[0m\u001b[0m\n\u001b[1;32m    178\u001b[0m         \u001b[0mtypes\u001b[0m \u001b[0;34m=\u001b[0m \u001b[0msorted\u001b[0m\u001b[0;34m(\u001b[0m\u001b[0mt\u001b[0m\u001b[0;34m.\u001b[0m\u001b[0m__qualname__\u001b[0m \u001b[0;32mfor\u001b[0m \u001b[0mt\u001b[0m \u001b[0;32min\u001b[0m \u001b[0mset\u001b[0m\u001b[0;34m(\u001b[0m\u001b[0mtype\u001b[0m\u001b[0;34m(\u001b[0m\u001b[0mv\u001b[0m\u001b[0;34m)\u001b[0m \u001b[0;32mfor\u001b[0m \u001b[0mv\u001b[0m \u001b[0;32min\u001b[0m \u001b[0mvalues\u001b[0m\u001b[0;34m)\u001b[0m\u001b[0;34m)\u001b[0m\u001b[0;34m\u001b[0m\u001b[0;34m\u001b[0m\u001b[0m\n\u001b[0;32m--> 179\u001b[0;31m         raise TypeError(\n\u001b[0m\u001b[1;32m    180\u001b[0m             \u001b[0;34m\"Encoders require their input argument must be uniformly \"\u001b[0m\u001b[0;34m\u001b[0m\u001b[0;34m\u001b[0m\u001b[0m\n\u001b[1;32m    181\u001b[0m             \u001b[0;34mf\"strings or numbers. Got {types}\"\u001b[0m\u001b[0;34m\u001b[0m\u001b[0;34m\u001b[0m\u001b[0m\n",
            "\u001b[0;31mTypeError\u001b[0m: Encoders require their input argument must be uniformly strings or numbers. Got ['int', 'str']"
          ]
        }
      ]
    },
    {
      "cell_type": "markdown",
      "source": [
        "GPT пишет что лучше использовать OneHot encoder в данном случае из за его способности обходить невидимые ранее лейблы. Using LabelEncoder with unseen categories (like 'AsphShn' appearing only in df_test) is challenging because LabelEncoder doesn’t support handling unknown labels by default."
      ],
      "metadata": {
        "id": "J6C3OcTVBjgp"
      }
    },
    {
      "cell_type": "code",
      "source": [
        "# from sklearn.preprocessing import LabelEncoder\n",
        "\n",
        "# # One-Hot Encoding для колонок с малым числом уникальных значений\n",
        "# df_train = pd.get_dummies(df_train, columns=one_hot_columns, drop_first=True)\n",
        "# df_test = pd.get_dummies(df_test, columns=one_hot_columns, drop_first=True)\n",
        "\n",
        "# # Label Encoding для колонок с большим числом уникальных значений\n",
        "# label_encoder = LabelEncoder()\n",
        "# for col in label_encode_columns:\n",
        "#     df_train[col] = label_encoder.fit_transform(df_train[col])\n",
        "#     df_test[col] = label_encoder.transform(df_test[col])"
      ],
      "metadata": {
        "id": "rkeD3RClBApz",
        "colab": {
          "base_uri": "https://localhost:8080/",
          "height": 426
        },
        "outputId": "13eb2f53-516d-493e-f742-8f2c04c62313"
      },
      "execution_count": null,
      "outputs": [
        {
          "output_type": "error",
          "ename": "ValueError",
          "evalue": "y contains previously unseen labels: 'AsphShn'",
          "traceback": [
            "\u001b[0;31m---------------------------------------------------------------------------\u001b[0m",
            "\u001b[0;31mKeyError\u001b[0m                                  Traceback (most recent call last)",
            "\u001b[0;32m/usr/local/lib/python3.10/dist-packages/sklearn/utils/_encode.py\u001b[0m in \u001b[0;36m_encode\u001b[0;34m(values, uniques, check_unknown)\u001b[0m\n\u001b[1;32m    224\u001b[0m         \u001b[0;32mtry\u001b[0m\u001b[0;34m:\u001b[0m\u001b[0;34m\u001b[0m\u001b[0;34m\u001b[0m\u001b[0m\n\u001b[0;32m--> 225\u001b[0;31m             \u001b[0;32mreturn\u001b[0m \u001b[0m_map_to_integer\u001b[0m\u001b[0;34m(\u001b[0m\u001b[0mvalues\u001b[0m\u001b[0;34m,\u001b[0m \u001b[0muniques\u001b[0m\u001b[0;34m)\u001b[0m\u001b[0;34m\u001b[0m\u001b[0;34m\u001b[0m\u001b[0m\n\u001b[0m\u001b[1;32m    226\u001b[0m         \u001b[0;32mexcept\u001b[0m \u001b[0mKeyError\u001b[0m \u001b[0;32mas\u001b[0m \u001b[0me\u001b[0m\u001b[0;34m:\u001b[0m\u001b[0;34m\u001b[0m\u001b[0;34m\u001b[0m\u001b[0m\n",
            "\u001b[0;32m/usr/local/lib/python3.10/dist-packages/sklearn/utils/_encode.py\u001b[0m in \u001b[0;36m_map_to_integer\u001b[0;34m(values, uniques)\u001b[0m\n\u001b[1;32m    164\u001b[0m     \u001b[0mtable\u001b[0m \u001b[0;34m=\u001b[0m \u001b[0m_nandict\u001b[0m\u001b[0;34m(\u001b[0m\u001b[0;34m{\u001b[0m\u001b[0mval\u001b[0m\u001b[0;34m:\u001b[0m \u001b[0mi\u001b[0m \u001b[0;32mfor\u001b[0m \u001b[0mi\u001b[0m\u001b[0;34m,\u001b[0m \u001b[0mval\u001b[0m \u001b[0;32min\u001b[0m \u001b[0menumerate\u001b[0m\u001b[0;34m(\u001b[0m\u001b[0muniques\u001b[0m\u001b[0;34m)\u001b[0m\u001b[0;34m}\u001b[0m\u001b[0;34m)\u001b[0m\u001b[0;34m\u001b[0m\u001b[0;34m\u001b[0m\u001b[0m\n\u001b[0;32m--> 165\u001b[0;31m     \u001b[0;32mreturn\u001b[0m \u001b[0mnp\u001b[0m\u001b[0;34m.\u001b[0m\u001b[0marray\u001b[0m\u001b[0;34m(\u001b[0m\u001b[0;34m[\u001b[0m\u001b[0mtable\u001b[0m\u001b[0;34m[\u001b[0m\u001b[0mv\u001b[0m\u001b[0;34m]\u001b[0m \u001b[0;32mfor\u001b[0m \u001b[0mv\u001b[0m \u001b[0;32min\u001b[0m \u001b[0mvalues\u001b[0m\u001b[0;34m]\u001b[0m\u001b[0;34m)\u001b[0m\u001b[0;34m\u001b[0m\u001b[0;34m\u001b[0m\u001b[0m\n\u001b[0m\u001b[1;32m    166\u001b[0m \u001b[0;34m\u001b[0m\u001b[0m\n",
            "\u001b[0;32m/usr/local/lib/python3.10/dist-packages/sklearn/utils/_encode.py\u001b[0m in \u001b[0;36m<listcomp>\u001b[0;34m(.0)\u001b[0m\n\u001b[1;32m    164\u001b[0m     \u001b[0mtable\u001b[0m \u001b[0;34m=\u001b[0m \u001b[0m_nandict\u001b[0m\u001b[0;34m(\u001b[0m\u001b[0;34m{\u001b[0m\u001b[0mval\u001b[0m\u001b[0;34m:\u001b[0m \u001b[0mi\u001b[0m \u001b[0;32mfor\u001b[0m \u001b[0mi\u001b[0m\u001b[0;34m,\u001b[0m \u001b[0mval\u001b[0m \u001b[0;32min\u001b[0m \u001b[0menumerate\u001b[0m\u001b[0;34m(\u001b[0m\u001b[0muniques\u001b[0m\u001b[0;34m)\u001b[0m\u001b[0;34m}\u001b[0m\u001b[0;34m)\u001b[0m\u001b[0;34m\u001b[0m\u001b[0;34m\u001b[0m\u001b[0m\n\u001b[0;32m--> 165\u001b[0;31m     \u001b[0;32mreturn\u001b[0m \u001b[0mnp\u001b[0m\u001b[0;34m.\u001b[0m\u001b[0marray\u001b[0m\u001b[0;34m(\u001b[0m\u001b[0;34m[\u001b[0m\u001b[0mtable\u001b[0m\u001b[0;34m[\u001b[0m\u001b[0mv\u001b[0m\u001b[0;34m]\u001b[0m \u001b[0;32mfor\u001b[0m \u001b[0mv\u001b[0m \u001b[0;32min\u001b[0m \u001b[0mvalues\u001b[0m\u001b[0;34m]\u001b[0m\u001b[0;34m)\u001b[0m\u001b[0;34m\u001b[0m\u001b[0;34m\u001b[0m\u001b[0m\n\u001b[0m\u001b[1;32m    166\u001b[0m \u001b[0;34m\u001b[0m\u001b[0m\n",
            "\u001b[0;32m/usr/local/lib/python3.10/dist-packages/sklearn/utils/_encode.py\u001b[0m in \u001b[0;36m__missing__\u001b[0;34m(self, key)\u001b[0m\n\u001b[1;32m    158\u001b[0m             \u001b[0;32mreturn\u001b[0m \u001b[0mself\u001b[0m\u001b[0;34m.\u001b[0m\u001b[0mnan_value\u001b[0m\u001b[0;34m\u001b[0m\u001b[0;34m\u001b[0m\u001b[0m\n\u001b[0;32m--> 159\u001b[0;31m         \u001b[0;32mraise\u001b[0m \u001b[0mKeyError\u001b[0m\u001b[0;34m(\u001b[0m\u001b[0mkey\u001b[0m\u001b[0;34m)\u001b[0m\u001b[0;34m\u001b[0m\u001b[0;34m\u001b[0m\u001b[0m\n\u001b[0m\u001b[1;32m    160\u001b[0m \u001b[0;34m\u001b[0m\u001b[0m\n",
            "\u001b[0;31mKeyError\u001b[0m: 'AsphShn'",
            "\nDuring handling of the above exception, another exception occurred:\n",
            "\u001b[0;31mValueError\u001b[0m                                Traceback (most recent call last)",
            "\u001b[0;32m<ipython-input-97-9a099947ff5d>\u001b[0m in \u001b[0;36m<cell line: 9>\u001b[0;34m()\u001b[0m\n\u001b[1;32m      9\u001b[0m \u001b[0;32mfor\u001b[0m \u001b[0mcol\u001b[0m \u001b[0;32min\u001b[0m \u001b[0mlabel_encode_columns\u001b[0m\u001b[0;34m:\u001b[0m\u001b[0;34m\u001b[0m\u001b[0;34m\u001b[0m\u001b[0m\n\u001b[1;32m     10\u001b[0m     \u001b[0mdf_train\u001b[0m\u001b[0;34m[\u001b[0m\u001b[0mcol\u001b[0m\u001b[0;34m]\u001b[0m \u001b[0;34m=\u001b[0m \u001b[0mlabel_encoder\u001b[0m\u001b[0;34m.\u001b[0m\u001b[0mfit_transform\u001b[0m\u001b[0;34m(\u001b[0m\u001b[0mdf_train\u001b[0m\u001b[0;34m[\u001b[0m\u001b[0mcol\u001b[0m\u001b[0;34m]\u001b[0m\u001b[0;34m)\u001b[0m\u001b[0;34m\u001b[0m\u001b[0;34m\u001b[0m\u001b[0m\n\u001b[0;32m---> 11\u001b[0;31m     \u001b[0mdf_test\u001b[0m\u001b[0;34m[\u001b[0m\u001b[0mcol\u001b[0m\u001b[0;34m]\u001b[0m \u001b[0;34m=\u001b[0m \u001b[0mlabel_encoder\u001b[0m\u001b[0;34m.\u001b[0m\u001b[0mtransform\u001b[0m\u001b[0;34m(\u001b[0m\u001b[0mdf_test\u001b[0m\u001b[0;34m[\u001b[0m\u001b[0mcol\u001b[0m\u001b[0;34m]\u001b[0m\u001b[0;34m)\u001b[0m\u001b[0;34m\u001b[0m\u001b[0;34m\u001b[0m\u001b[0m\n\u001b[0m",
            "\u001b[0;32m/usr/local/lib/python3.10/dist-packages/sklearn/preprocessing/_label.py\u001b[0m in \u001b[0;36mtransform\u001b[0;34m(self, y)\u001b[0m\n\u001b[1;32m    135\u001b[0m             \u001b[0;32mreturn\u001b[0m \u001b[0mnp\u001b[0m\u001b[0;34m.\u001b[0m\u001b[0marray\u001b[0m\u001b[0;34m(\u001b[0m\u001b[0;34m[\u001b[0m\u001b[0;34m]\u001b[0m\u001b[0;34m)\u001b[0m\u001b[0;34m\u001b[0m\u001b[0;34m\u001b[0m\u001b[0m\n\u001b[1;32m    136\u001b[0m \u001b[0;34m\u001b[0m\u001b[0m\n\u001b[0;32m--> 137\u001b[0;31m         \u001b[0;32mreturn\u001b[0m \u001b[0m_encode\u001b[0m\u001b[0;34m(\u001b[0m\u001b[0my\u001b[0m\u001b[0;34m,\u001b[0m \u001b[0muniques\u001b[0m\u001b[0;34m=\u001b[0m\u001b[0mself\u001b[0m\u001b[0;34m.\u001b[0m\u001b[0mclasses_\u001b[0m\u001b[0;34m)\u001b[0m\u001b[0;34m\u001b[0m\u001b[0;34m\u001b[0m\u001b[0m\n\u001b[0m\u001b[1;32m    138\u001b[0m \u001b[0;34m\u001b[0m\u001b[0m\n\u001b[1;32m    139\u001b[0m     \u001b[0;32mdef\u001b[0m \u001b[0minverse_transform\u001b[0m\u001b[0;34m(\u001b[0m\u001b[0mself\u001b[0m\u001b[0;34m,\u001b[0m \u001b[0my\u001b[0m\u001b[0;34m)\u001b[0m\u001b[0;34m:\u001b[0m\u001b[0;34m\u001b[0m\u001b[0;34m\u001b[0m\u001b[0m\n",
            "\u001b[0;32m/usr/local/lib/python3.10/dist-packages/sklearn/utils/_encode.py\u001b[0m in \u001b[0;36m_encode\u001b[0;34m(values, uniques, check_unknown)\u001b[0m\n\u001b[1;32m    225\u001b[0m             \u001b[0;32mreturn\u001b[0m \u001b[0m_map_to_integer\u001b[0m\u001b[0;34m(\u001b[0m\u001b[0mvalues\u001b[0m\u001b[0;34m,\u001b[0m \u001b[0muniques\u001b[0m\u001b[0;34m)\u001b[0m\u001b[0;34m\u001b[0m\u001b[0;34m\u001b[0m\u001b[0m\n\u001b[1;32m    226\u001b[0m         \u001b[0;32mexcept\u001b[0m \u001b[0mKeyError\u001b[0m \u001b[0;32mas\u001b[0m \u001b[0me\u001b[0m\u001b[0;34m:\u001b[0m\u001b[0;34m\u001b[0m\u001b[0;34m\u001b[0m\u001b[0m\n\u001b[0;32m--> 227\u001b[0;31m             \u001b[0;32mraise\u001b[0m \u001b[0mValueError\u001b[0m\u001b[0;34m(\u001b[0m\u001b[0;34mf\"y contains previously unseen labels: {str(e)}\"\u001b[0m\u001b[0;34m)\u001b[0m\u001b[0;34m\u001b[0m\u001b[0;34m\u001b[0m\u001b[0m\n\u001b[0m\u001b[1;32m    228\u001b[0m     \u001b[0;32melse\u001b[0m\u001b[0;34m:\u001b[0m\u001b[0;34m\u001b[0m\u001b[0;34m\u001b[0m\u001b[0m\n\u001b[1;32m    229\u001b[0m         \u001b[0;32mif\u001b[0m \u001b[0mcheck_unknown\u001b[0m\u001b[0;34m:\u001b[0m\u001b[0;34m\u001b[0m\u001b[0;34m\u001b[0m\u001b[0m\n",
            "\u001b[0;31mValueError\u001b[0m: y contains previously unseen labels: 'AsphShn'"
          ]
        }
      ]
    },
    {
      "cell_type": "markdown",
      "source": [],
      "metadata": {
        "id": "iooh2s1ACV6N"
      }
    },
    {
      "cell_type": "markdown",
      "source": [
        "Выведем список всех категориальных колонок, при наличии таковых. Если нет, то вывести \"нет категориальных колонок\""
      ],
      "metadata": {
        "id": "3xK8gXgqUrq0"
      }
    },
    {
      "cell_type": "code",
      "source": [
        "# Check categorical columns in the original DataFrames before encoding\n",
        "train_categorical_columns = df_train.select_dtypes(include=['object', 'category']).columns\n",
        "if train_categorical_columns.empty:\n",
        "    print(\"В df_train нет категориальных колонок\")\n",
        "else:\n",
        "    print(\"Категориальные колонки в df_train:\", list(train_categorical_columns))\n",
        "\n",
        "test_categorical_columns = df_test.select_dtypes(include=['object', 'category']).columns\n",
        "if test_categorical_columns.empty:\n",
        "    print(\"В df_test нет категориальных колонок\")\n",
        "else:\n",
        "    print(\"Категориальные колонки в df_test:\", list(test_categorical_columns))\n",
        "\n"
      ],
      "metadata": {
        "id": "SZtLkzEHU3as",
        "colab": {
          "base_uri": "https://localhost:8080/"
        },
        "outputId": "618b2f77-11a8-4482-90ab-ef9b641384ea"
      },
      "execution_count": null,
      "outputs": [
        {
          "output_type": "stream",
          "name": "stdout",
          "text": [
            "В df_train нет категориальных колонок\n",
            "Категориальные колонки в df_test: ['Exterior1st']\n"
          ]
        }
      ]
    },
    {
      "cell_type": "markdown",
      "source": [
        "теперь подготовка к обучению. разделим на тренировоч и тестовые данные"
      ],
      "metadata": {
        "id": "oJn9RxaidTBH"
      }
    },
    {
      "cell_type": "code",
      "source": [
        "from sklearn.model_selection import train_test_split\n",
        "\n",
        "# Предположим, что у нас есть целевой признак 'target'\n",
        "X = df.drop(columns=['SalePrice'])\n",
        "y = df['SalePrice']\n",
        "\n",
        "X_train, X_test, y_train, y_test = train_test_split(X, y, test_size=0.2, random_state=42)\n"
      ],
      "metadata": {
        "id": "HDQCbRXidYr8"
      },
      "execution_count": null,
      "outputs": []
    },
    {
      "cell_type": "markdown",
      "source": [
        "масштабирование (scaling) пока что пропустим, посмотрим насколько точна будет модель без скейлинга"
      ],
      "metadata": {
        "id": "ba4rwW0eifuv"
      }
    },
    {
      "cell_type": "markdown",
      "source": [
        "from sklearn.preprocessing import StandardScaler\n",
        "\n",
        "scaler = StandardScaler()\n",
        "X_train = scaler.fit_transform(X_train)\n",
        "X_test = scaler.transform(X_test)"
      ],
      "metadata": {
        "id": "df9nWgYPi5BY"
      }
    },
    {
      "cell_type": "markdown",
      "source": [
        "забыл что это был train dataset let's do the same on test dataset"
      ],
      "metadata": {
        "id": "ZvaXzp8DjtqP"
      }
    },
    {
      "cell_type": "code",
      "source": [
        "test_data = load_data(\"test.csv\")\n",
        "print(test_data.head)"
      ],
      "metadata": {
        "id": "wKv2HXp_i1Bm"
      },
      "execution_count": null,
      "outputs": []
    },
    {
      "cell_type": "code",
      "source": [],
      "metadata": {
        "id": "EO-TwakBx4rK"
      },
      "execution_count": null,
      "outputs": []
    }
  ],
  "metadata": {
    "kernelspec": {
      "display_name": "Python 3",
      "language": "python",
      "name": "python3"
    },
    "language_info": {
      "codemirror_mode": {
        "name": "ipython",
        "version": 3
      },
      "file_extension": ".py",
      "mimetype": "text/x-python",
      "name": "python",
      "nbconvert_exporter": "python",
      "pygments_lexer": "ipython3",
      "version": "3.6.10"
    },
    "colab": {
      "provenance": [],
      "include_colab_link": true
    }
  },
  "nbformat": 4,
  "nbformat_minor": 0
}