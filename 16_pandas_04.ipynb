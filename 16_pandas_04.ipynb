{
 "cells": [
  {
   "cell_type": "code",
   "execution_count": 1,
   "id": "8d52fb9c",
   "metadata": {},
   "outputs": [],
   "source": [
    "import pandas as pd"
   ]
  },
  {
   "cell_type": "code",
   "execution_count": 2,
   "id": "97cbe565",
   "metadata": {},
   "outputs": [],
   "source": [
    "with open('Social_Network_Ads.csv') as inp_f:\n",
    "    pd_data = pd.read_csv(inp_f)"
   ]
  },
  {
   "cell_type": "code",
   "execution_count": 4,
   "id": "6dde4e22",
   "metadata": {},
   "outputs": [
    {
     "name": "stdout",
     "output_type": "stream",
     "text": [
      "    User ID Gender  Age  EstimatedSalary  Purchased\n",
      "0  15624510   Male   19            19000          0\n",
      "1  15810944   Male   35            20000          0\n"
     ]
    }
   ],
   "source": [
    "print(pd_data.head(2)) ##shows n rows of the table"
   ]
  },
  {
   "cell_type": "code",
   "execution_count": 5,
   "id": "249215b9",
   "metadata": {},
   "outputs": [
    {
     "name": "stdout",
     "output_type": "stream",
     "text": [
      "      User ID  Gender  Age  EstimatedSalary  Purchased\n",
      "398  15755018    Male   36            33000          0\n",
      "399  15594041  Female   49            36000          1\n"
     ]
    }
   ],
   "source": [
    "print(pd_data.tail(2)) ##shows n rows of the table"
   ]
  },
  {
   "cell_type": "code",
   "execution_count": 6,
   "id": "0ae23c08",
   "metadata": {},
   "outputs": [
    {
     "name": "stdout",
     "output_type": "stream",
     "text": [
      "<class 'pandas.core.frame.DataFrame'>\n",
      "RangeIndex: 400 entries, 0 to 399\n",
      "Data columns (total 5 columns):\n",
      " #   Column           Non-Null Count  Dtype \n",
      "---  ------           --------------  ----- \n",
      " 0   User ID          400 non-null    int64 \n",
      " 1   Gender           400 non-null    object\n",
      " 2   Age              400 non-null    int64 \n",
      " 3   EstimatedSalary  400 non-null    int64 \n",
      " 4   Purchased        400 non-null    int64 \n",
      "dtypes: int64(4), object(1)\n",
      "memory usage: 15.8+ KB\n"
     ]
    }
   ],
   "source": [
    "pd_data.info()"
   ]
  },
  {
   "cell_type": "code",
   "execution_count": 7,
   "id": "875d40aa",
   "metadata": {},
   "outputs": [
    {
     "data": {
      "text/html": [
       "<div>\n",
       "<style scoped>\n",
       "    .dataframe tbody tr th:only-of-type {\n",
       "        vertical-align: middle;\n",
       "    }\n",
       "\n",
       "    .dataframe tbody tr th {\n",
       "        vertical-align: top;\n",
       "    }\n",
       "\n",
       "    .dataframe thead th {\n",
       "        text-align: right;\n",
       "    }\n",
       "</style>\n",
       "<table border=\"1\" class=\"dataframe\">\n",
       "  <thead>\n",
       "    <tr style=\"text-align: right;\">\n",
       "      <th></th>\n",
       "      <th>User ID</th>\n",
       "      <th>Age</th>\n",
       "      <th>EstimatedSalary</th>\n",
       "      <th>Purchased</th>\n",
       "    </tr>\n",
       "  </thead>\n",
       "  <tbody>\n",
       "    <tr>\n",
       "      <th>count</th>\n",
       "      <td>4.000000e+02</td>\n",
       "      <td>400.000000</td>\n",
       "      <td>400.000000</td>\n",
       "      <td>400.000000</td>\n",
       "    </tr>\n",
       "    <tr>\n",
       "      <th>mean</th>\n",
       "      <td>1.569154e+07</td>\n",
       "      <td>37.655000</td>\n",
       "      <td>69742.500000</td>\n",
       "      <td>0.357500</td>\n",
       "    </tr>\n",
       "    <tr>\n",
       "      <th>std</th>\n",
       "      <td>7.165832e+04</td>\n",
       "      <td>10.482877</td>\n",
       "      <td>34096.960282</td>\n",
       "      <td>0.479864</td>\n",
       "    </tr>\n",
       "    <tr>\n",
       "      <th>min</th>\n",
       "      <td>1.556669e+07</td>\n",
       "      <td>18.000000</td>\n",
       "      <td>15000.000000</td>\n",
       "      <td>0.000000</td>\n",
       "    </tr>\n",
       "    <tr>\n",
       "      <th>25%</th>\n",
       "      <td>1.562676e+07</td>\n",
       "      <td>29.750000</td>\n",
       "      <td>43000.000000</td>\n",
       "      <td>0.000000</td>\n",
       "    </tr>\n",
       "    <tr>\n",
       "      <th>50%</th>\n",
       "      <td>1.569434e+07</td>\n",
       "      <td>37.000000</td>\n",
       "      <td>70000.000000</td>\n",
       "      <td>0.000000</td>\n",
       "    </tr>\n",
       "    <tr>\n",
       "      <th>75%</th>\n",
       "      <td>1.575036e+07</td>\n",
       "      <td>46.000000</td>\n",
       "      <td>88000.000000</td>\n",
       "      <td>1.000000</td>\n",
       "    </tr>\n",
       "    <tr>\n",
       "      <th>max</th>\n",
       "      <td>1.581524e+07</td>\n",
       "      <td>60.000000</td>\n",
       "      <td>150000.000000</td>\n",
       "      <td>1.000000</td>\n",
       "    </tr>\n",
       "  </tbody>\n",
       "</table>\n",
       "</div>"
      ],
      "text/plain": [
       "            User ID         Age  EstimatedSalary   Purchased\n",
       "count  4.000000e+02  400.000000       400.000000  400.000000\n",
       "mean   1.569154e+07   37.655000     69742.500000    0.357500\n",
       "std    7.165832e+04   10.482877     34096.960282    0.479864\n",
       "min    1.556669e+07   18.000000     15000.000000    0.000000\n",
       "25%    1.562676e+07   29.750000     43000.000000    0.000000\n",
       "50%    1.569434e+07   37.000000     70000.000000    0.000000\n",
       "75%    1.575036e+07   46.000000     88000.000000    1.000000\n",
       "max    1.581524e+07   60.000000    150000.000000    1.000000"
      ]
     },
     "execution_count": 7,
     "metadata": {},
     "output_type": "execute_result"
    }
   ],
   "source": [
    "pd_data.describe()"
   ]
  },
  {
   "cell_type": "code",
   "execution_count": 10,
   "id": "1f522b6e",
   "metadata": {},
   "outputs": [],
   "source": [
    "pd_counts = pd_data.apply(pd.Series.value_counts)"
   ]
  },
  {
   "cell_type": "code",
   "execution_count": 11,
   "id": "93b7a390",
   "metadata": {},
   "outputs": [
    {
     "name": "stdout",
     "output_type": "stream",
     "text": [
      "          User ID  Gender  Age  EstimatedSalary  Purchased\n",
      "0             NaN     NaN  NaN              NaN      257.0\n",
      "1             NaN     NaN  NaN              NaN      143.0\n",
      "18            NaN     NaN  5.0              NaN        NaN\n",
      "19            NaN     NaN  7.0              NaN        NaN\n",
      "20            NaN     NaN  7.0              NaN        NaN\n",
      "...           ...     ...  ...              ...        ...\n",
      "15814553      1.0     NaN  NaN              NaN        NaN\n",
      "15814816      1.0     NaN  NaN              NaN        NaN\n",
      "15815236      1.0     NaN  NaN              NaN        NaN\n",
      "Female        NaN   204.0  NaN              NaN        NaN\n",
      "Male          NaN   196.0  NaN              NaN        NaN\n",
      "\n",
      "[564 rows x 5 columns]\n"
     ]
    }
   ],
   "source": [
    "print(pd_counts)"
   ]
  },
  {
   "cell_type": "code",
   "execution_count": 12,
   "id": "ba883a46",
   "metadata": {},
   "outputs": [
    {
     "data": {
      "text/html": [
       "<div>\n",
       "<style scoped>\n",
       "    .dataframe tbody tr th:only-of-type {\n",
       "        vertical-align: middle;\n",
       "    }\n",
       "\n",
       "    .dataframe tbody tr th {\n",
       "        vertical-align: top;\n",
       "    }\n",
       "\n",
       "    .dataframe thead th {\n",
       "        text-align: right;\n",
       "    }\n",
       "</style>\n",
       "<table border=\"1\" class=\"dataframe\">\n",
       "  <thead>\n",
       "    <tr style=\"text-align: right;\">\n",
       "      <th></th>\n",
       "      <th>User ID</th>\n",
       "      <th>Gender</th>\n",
       "      <th>Age</th>\n",
       "      <th>EstimatedSalary</th>\n",
       "      <th>Purchased</th>\n",
       "    </tr>\n",
       "  </thead>\n",
       "  <tbody>\n",
       "    <tr>\n",
       "      <th>0</th>\n",
       "      <td>True</td>\n",
       "      <td>True</td>\n",
       "      <td>True</td>\n",
       "      <td>True</td>\n",
       "      <td>False</td>\n",
       "    </tr>\n",
       "    <tr>\n",
       "      <th>1</th>\n",
       "      <td>True</td>\n",
       "      <td>True</td>\n",
       "      <td>True</td>\n",
       "      <td>True</td>\n",
       "      <td>False</td>\n",
       "    </tr>\n",
       "    <tr>\n",
       "      <th>18</th>\n",
       "      <td>True</td>\n",
       "      <td>True</td>\n",
       "      <td>False</td>\n",
       "      <td>True</td>\n",
       "      <td>True</td>\n",
       "    </tr>\n",
       "    <tr>\n",
       "      <th>19</th>\n",
       "      <td>True</td>\n",
       "      <td>True</td>\n",
       "      <td>False</td>\n",
       "      <td>True</td>\n",
       "      <td>True</td>\n",
       "    </tr>\n",
       "    <tr>\n",
       "      <th>20</th>\n",
       "      <td>True</td>\n",
       "      <td>True</td>\n",
       "      <td>False</td>\n",
       "      <td>True</td>\n",
       "      <td>True</td>\n",
       "    </tr>\n",
       "    <tr>\n",
       "      <th>...</th>\n",
       "      <td>...</td>\n",
       "      <td>...</td>\n",
       "      <td>...</td>\n",
       "      <td>...</td>\n",
       "      <td>...</td>\n",
       "    </tr>\n",
       "    <tr>\n",
       "      <th>15814553</th>\n",
       "      <td>False</td>\n",
       "      <td>True</td>\n",
       "      <td>True</td>\n",
       "      <td>True</td>\n",
       "      <td>True</td>\n",
       "    </tr>\n",
       "    <tr>\n",
       "      <th>15814816</th>\n",
       "      <td>False</td>\n",
       "      <td>True</td>\n",
       "      <td>True</td>\n",
       "      <td>True</td>\n",
       "      <td>True</td>\n",
       "    </tr>\n",
       "    <tr>\n",
       "      <th>15815236</th>\n",
       "      <td>False</td>\n",
       "      <td>True</td>\n",
       "      <td>True</td>\n",
       "      <td>True</td>\n",
       "      <td>True</td>\n",
       "    </tr>\n",
       "    <tr>\n",
       "      <th>Female</th>\n",
       "      <td>True</td>\n",
       "      <td>False</td>\n",
       "      <td>True</td>\n",
       "      <td>True</td>\n",
       "      <td>True</td>\n",
       "    </tr>\n",
       "    <tr>\n",
       "      <th>Male</th>\n",
       "      <td>True</td>\n",
       "      <td>False</td>\n",
       "      <td>True</td>\n",
       "      <td>True</td>\n",
       "      <td>True</td>\n",
       "    </tr>\n",
       "  </tbody>\n",
       "</table>\n",
       "<p>564 rows × 5 columns</p>\n",
       "</div>"
      ],
      "text/plain": [
       "          User ID  Gender    Age  EstimatedSalary  Purchased\n",
       "0            True    True   True             True      False\n",
       "1            True    True   True             True      False\n",
       "18           True    True  False             True       True\n",
       "19           True    True  False             True       True\n",
       "20           True    True  False             True       True\n",
       "...           ...     ...    ...              ...        ...\n",
       "15814553    False    True   True             True       True\n",
       "15814816    False    True   True             True       True\n",
       "15815236    False    True   True             True       True\n",
       "Female       True   False   True             True       True\n",
       "Male         True   False   True             True       True\n",
       "\n",
       "[564 rows x 5 columns]"
      ]
     },
     "execution_count": 12,
     "metadata": {},
     "output_type": "execute_result"
    }
   ],
   "source": [
    "pd.isnull(pd_counts##will show all values that are null or not null"
   ]
  },
  {
   "cell_type": "code",
   "execution_count": 14,
   "id": "abed8014",
   "metadata": {},
   "outputs": [
    {
     "name": "stdout",
     "output_type": "stream",
     "text": [
      "0           NaN\n",
      "1           NaN\n",
      "18          5.0\n",
      "19          7.0\n",
      "20          7.0\n",
      "           ... \n",
      "15814553    NaN\n",
      "15814816    NaN\n",
      "15815236    NaN\n",
      "Female      NaN\n",
      "Male        NaN\n",
      "Name: Age, Length: 564, dtype: float64\n"
     ]
    }
   ],
   "source": [
    "age = pd_counts['Age']\n",
    "print(age)"
   ]
  },
  {
   "cell_type": "code",
   "execution_count": 16,
   "id": "c7cd16bd",
   "metadata": {},
   "outputs": [
    {
     "name": "stdout",
     "output_type": "stream",
     "text": [
      "18     5.0\n",
      "19     7.0\n",
      "20     7.0\n",
      "21     4.0\n",
      "22     5.0\n",
      "23     6.0\n",
      "24     9.0\n",
      "25     6.0\n",
      "26    16.0\n",
      "27    13.0\n",
      "28    12.0\n",
      "29    10.0\n",
      "30    11.0\n",
      "31    11.0\n",
      "32     9.0\n",
      "33     9.0\n",
      "34     6.0\n",
      "35    32.0\n",
      "36    12.0\n",
      "37    20.0\n",
      "38    13.0\n",
      "39    15.0\n",
      "40    15.0\n",
      "41    16.0\n",
      "42    16.0\n",
      "43     3.0\n",
      "44     2.0\n",
      "45     7.0\n",
      "46    12.0\n",
      "47    14.0\n",
      "48    14.0\n",
      "49    10.0\n",
      "50     4.0\n",
      "51     3.0\n",
      "52     6.0\n",
      "53     5.0\n",
      "54     4.0\n",
      "55     3.0\n",
      "56     3.0\n",
      "57     5.0\n",
      "58     6.0\n",
      "59     7.0\n",
      "60     7.0\n",
      "Name: Age, dtype: float64\n"
     ]
    }
   ],
   "source": [
    "age=age.dropna()\n",
    "print(age)"
   ]
  },
  {
   "cell_type": "code",
   "execution_count": 19,
   "id": "a2a74055",
   "metadata": {},
   "outputs": [
    {
     "name": "stdout",
     "output_type": "stream",
     "text": [
      "        User ID  Gender  Age  EstimatedSalary  Purchased\n",
      "Female      NaN   204.0  NaN              NaN        NaN\n",
      "Male        NaN   196.0  NaN              NaN        NaN\n"
     ]
    }
   ],
   "source": [
    "last2rows = pd_counts.iloc[-2:,:]\n",
    "print(last2rows)"
   ]
  },
  {
   "cell_type": "code",
   "execution_count": 21,
   "id": "25bbae44",
   "metadata": {},
   "outputs": [
    {
     "name": "stdout",
     "output_type": "stream",
     "text": [
      "        Gender\n",
      "Female   204.0\n",
      "Male     196.0\n"
     ]
    }
   ],
   "source": [
    "cleaned_last2rows = last2rows.dropna(axis=1)\n",
    "print(cleaned_last2rows)"
   ]
  },
  {
   "cell_type": "code",
   "execution_count": 23,
   "id": "f8e2ee79",
   "metadata": {},
   "outputs": [],
   "source": [
    "salaries = pd_counts['EstimatedSalary']"
   ]
  },
  {
   "cell_type": "code",
   "execution_count": 24,
   "id": "b23b62d1",
   "metadata": {},
   "outputs": [
    {
     "name": "stdout",
     "output_type": "stream",
     "text": [
      "0          NaN\n",
      "1          NaN\n",
      "18         NaN\n",
      "19         NaN\n",
      "20         NaN\n",
      "            ..\n",
      "15814553   NaN\n",
      "15814816   NaN\n",
      "15815236   NaN\n",
      "Female     NaN\n",
      "Male       NaN\n",
      "Name: EstimatedSalary, Length: 564, dtype: float64\n"
     ]
    }
   ],
   "source": [
    "print(salaries)"
   ]
  },
  {
   "cell_type": "code",
   "execution_count": 27,
   "id": "e2a202d4",
   "metadata": {},
   "outputs": [
    {
     "name": "stdout",
     "output_type": "stream",
     "text": [
      "0           0\n",
      "1           0\n",
      "18          0\n",
      "19          0\n",
      "20          0\n",
      "           ..\n",
      "15814553    0\n",
      "15814816    0\n",
      "15815236    0\n",
      "Female      0\n",
      "Male        0\n",
      "Name: EstimatedSalary, Length: 564, dtype: int32\n"
     ]
    }
   ],
   "source": [
    "salaries = salaries.fillna(0).astype(int)\n",
    "print(salaries)"
   ]
  }
 ],
 "metadata": {
  "kernelspec": {
   "display_name": "Python 3 (ipykernel)",
   "language": "python",
   "name": "python3"
  },
  "language_info": {
   "codemirror_mode": {
    "name": "ipython",
    "version": 3
   },
   "file_extension": ".py",
   "mimetype": "text/x-python",
   "name": "python",
   "nbconvert_exporter": "python",
   "pygments_lexer": "ipython3",
   "version": "3.9.12"
  }
 },
 "nbformat": 4,
 "nbformat_minor": 5
}
